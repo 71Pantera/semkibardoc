{
 "cells": [
  {
   "cell_type": "code",
   "execution_count": 1,
   "metadata": {},
   "outputs": [
    {
     "name": "stdout",
     "output_type": "stream",
     "text": [
      "C:\\Users\\guendm1\\Documents\\BerlinDenkmal\\Denkmal-Berlin\\Vorgang\n"
     ]
    }
   ],
   "source": [
    "import sys,os\n",
    "pathThisFile=sys.path[0]\n",
    "print(pathThisFile)"
   ]
  },
  {
   "cell_type": "code",
   "execution_count": 2,
   "metadata": {},
   "outputs": [],
   "source": [
    "import json"
   ]
  },
  {
   "cell_type": "code",
   "execution_count": 5,
   "metadata": {},
   "outputs": [
    {
     "ename": "ModuleNotFoundError",
     "evalue": "No module named 'Vorgang'",
     "output_type": "error",
     "traceback": [
      "\u001b[1;31m---------------------------------------------------------------------------\u001b[0m",
      "\u001b[1;31mModuleNotFoundError\u001b[0m                       Traceback (most recent call last)",
      "\u001b[1;32m<ipython-input-5-594ff14c4ba1>\u001b[0m in \u001b[0;36m<module>\u001b[1;34m\u001b[0m\n\u001b[1;32m----> 1\u001b[1;33m \u001b[1;32mimport\u001b[0m \u001b[0mgetVorgang\u001b[0m \u001b[1;32mas\u001b[0m \u001b[0mgVorgang\u001b[0m\u001b[1;33m\u001b[0m\u001b[1;33m\u001b[0m\u001b[0m\n\u001b[0m\u001b[0;32m      2\u001b[0m \u001b[0mfindVorgang\u001b[0m\u001b[1;33m=\u001b[0m\u001b[0mVorgang\u001b[0m\u001b[1;33m.\u001b[0m\u001b[0mfindVorgang\u001b[0m\u001b[1;33m\u001b[0m\u001b[1;33m\u001b[0m\u001b[0m\n",
      "\u001b[1;32m~\\Documents\\BerlinDenkmal\\Denkmal-Berlin\\Vorgang\\getVorgang.py\u001b[0m in \u001b[0;36m<module>\u001b[1;34m\u001b[0m\n\u001b[0;32m      1\u001b[0m \u001b[1;32mimport\u001b[0m \u001b[0mjson\u001b[0m\u001b[1;33m\u001b[0m\u001b[1;33m\u001b[0m\u001b[0m\n\u001b[0;32m      2\u001b[0m \u001b[1;32mimport\u001b[0m \u001b[0mre\u001b[0m\u001b[1;33m\u001b[0m\u001b[1;33m\u001b[0m\u001b[0m\n\u001b[1;32m----> 3\u001b[1;33m \u001b[1;32mimport\u001b[0m \u001b[0mVorgang\u001b[0m\u001b[1;33m.\u001b[0m\u001b[0mextractVorgang\u001b[0m \u001b[1;32mas\u001b[0m \u001b[0meVorgang\u001b[0m\u001b[1;33m\u001b[0m\u001b[1;33m\u001b[0m\u001b[0m\n\u001b[0m\u001b[0;32m      4\u001b[0m \u001b[1;32mimport\u001b[0m \u001b[0mos\u001b[0m\u001b[1;33m\u001b[0m\u001b[1;33m\u001b[0m\u001b[0m\n\u001b[0;32m      5\u001b[0m \u001b[1;31m#########################\u001b[0m\u001b[1;33m\u001b[0m\u001b[1;33m\u001b[0m\u001b[1;33m\u001b[0m\u001b[0m\n",
      "\u001b[1;31mModuleNotFoundError\u001b[0m: No module named 'Vorgang'"
     ]
    }
   ],
   "source": [
    "import Vorgang.getVorgang as gVorgang\n",
    "findVorgang=Vorgang.findVorgang"
   ]
  },
  {
   "cell_type": "code",
   "execution_count": 4,
   "metadata": {},
   "outputs": [],
   "source": [
    "#target_dir = r\"C:\\Users\\schull\\Projekte\\KIbarDok\\testDatenMerge\"\n",
    "#target_dir = r\"C:\\Users\\guendm1\\Documents\\BerlinDenkmal\\Testdaten\\All\\doc\"\n",
    "#target_dir = r\"C:\\Users\\guendm1\\Documents\\BerlinDenkmal\\Testdaten\\AllSepType\\doc\"\n",
    "target_dir = r\"C:\\Users\\guendm1\\Documents\\BerlinDenkmal\\Testdaten\\Sep\\Wilhelminenhofstr76-78\"\n",
    "os.chdir(target_dir)\n",
    "files = sorted(os.listdir(target_dir))"
   ]
  },
  {
   "cell_type": "code",
   "execution_count": 5,
   "metadata": {},
   "outputs": [],
   "source": [
    "def rep(x):\n",
    "    return str(x).replace('{','').replace('}','').replace('[','').replace(']','').replace('\\\"','').replace('\\'','')"
   ]
  },
  {
   "cell_type": "code",
   "execution_count": 6,
   "metadata": {},
   "outputs": [],
   "source": [
    "def updatedResult(oldResult,newResult):\n",
    "    for key in oldResult['Ergebnis']:\n",
    "        oldResult['Ergebnis'][key]=oldResult['Ergebnis'][key]+newResult['Ergebnis'][key]\n",
    "    for filePath in newResult['Gesamt-Zuordnung'].keys():\n",
    "        oldResult['Gesamt-Zuordnung'].setdefault(filePath,{}).update(newResult['Gesamt-Zuordnung'][filePath])\n",
    "        oldResult['Keine-Zuordnung'].setdefault(filePath,{}).update(newResult['Keine-Zuordnung'][filePath])\n",
    "        oldResult['Informelles-Format'].setdefault(filePath,[]).extend(newResult['Informelles-Format'][filePath])\n",
    "        oldResult['Fehler'].setdefault(filePath,[]).extend(newResult['Fehler'][filePath])\n",
    "    return oldResult"
   ]
  },
  {
   "cell_type": "code",
   "execution_count": 7,
   "metadata": {},
   "outputs": [],
   "source": [
    "def save(filePath,considerDocName,newResult):\n",
    "    if considerDocName==True:\n",
    "        name=pathThisFile+'\\outputResult\\\\'+'result-docName.json'            \n",
    "    else:\n",
    "        name=pathThisFile+'\\outputResult\\\\'+'result-NodocName.json'    \n",
    "    ###########################################\n",
    "    if not os.path.isfile(name):#create json-result file\n",
    "        with open(name,'w') as fp:\n",
    "            json.dump(newResult, fp,  indent=4,ensure_ascii=False)\n",
    "            print('resultFile0',newResult)\n",
    "    else:#update the json-result file\n",
    "        with open(name,'r') as fp:\n",
    "            resultFile = json.load(fp)\n",
    "        #print('resultFile',resultFile)\n",
    "        #print('newResult', newResult)\n",
    "        finalResult=updatedResult(resultFile,newResult)\n",
    "        #print('finalResult',finalResult)\n",
    "        with open(name,'w') as f:\n",
    "            json.dump(finalResult, f,  indent=4,ensure_ascii=False)"
   ]
  },
  {
   "cell_type": "code",
   "execution_count": 8,
   "metadata": {},
   "outputs": [],
   "source": [
    "def allVorgang(file,filePath,considerDocName,methode):\n",
    "    resultAll=findVorgang(file, filePath, considerDocName,methode).all\n",
    "    save(filePath,considerDocName,resultAll)\n",
    "    return resultAll"
   ]
  },
  {
   "cell_type": "code",
   "execution_count": 9,
   "metadata": {},
   "outputs": [],
   "source": [
    "def vorgang(files,filePath,considerDocName,methode):\n",
    "    if type(files)!=list:\n",
    "        files=[files]\n",
    "    alle=allVorgang(files,filePath,considerDocName,methode)\n",
    "    zuordnung=alle['Gesamt-Zuordnung']\n",
    "    keineZuordnung=alle['Keine-Zuordnung']\n",
    "    informellesFormat=alle['Informelles-Format'] \n",
    "    fehler=alle['Fehler']\n",
    "    ###############################################\n",
    "    result={}\n",
    "    result[filePath]={}\n",
    "    ###############################################\n",
    "    for f in files:\n",
    "        result[filePath][f]={}\n",
    "        if f in zuordnung[filePath].keys():\n",
    "            vResult=rep(list(zuordnung[filePath][f].keys()))\n",
    "        elif f in keineZuordnung[filePath].keys():\n",
    "            vResult='Keine Kategorie gefunden'\n",
    "        elif f in informellesFormat[filePath]:\n",
    "            vResult='Informelles Format'\n",
    "        elif f in fehler[filePath]:\n",
    "            vResult='Fehler in der Datei'\n",
    "        else:\n",
    "            vResult='Fehler in der Datei'\n",
    "        result[filePath][f]['vorgang']=vResult\n",
    "    return result"
   ]
  },
  {
   "cell_type": "code",
   "execution_count": null,
   "metadata": {},
   "outputs": [
    {
     "name": "stdout",
     "output_type": "stream",
     "text": [
      "pages:  59\n",
      "File is too long for Behördendokument: 00_Auslobung_htw-fki_lo.pdf\n",
      "{'C:\\\\Users\\\\guendm1\\\\Documents\\\\BerlinDenkmal\\\\Testdaten\\\\Sep\\\\Wilhelminenhofstr76-78': {'00_Auslobung_htw-fki_lo.pdf': {'Vorgang': 'Informelles Format'}}}\n",
      "pages:  2\n",
      "{'C:\\\\Users\\\\guendm1\\\\Documents\\\\BerlinDenkmal\\\\Testdaten\\\\Sep\\\\Wilhelminenhofstr76-78': {'070927 Vermerk Abstimmung Fassade .pdf': {'Vorgang': 'Informelles Format'}}}\n",
      "pages:  1\n",
      "{'C:\\\\Users\\\\guendm1\\\\Documents\\\\BerlinDenkmal\\\\Testdaten\\\\Sep\\\\Wilhelminenhofstr76-78': {\"152-13,W'hofstr.74-76_Errichtung Werbung.doc\": {'Vorgang': 'Antrag'}}}\n",
      "pages:  13\n",
      "{'C:\\\\Users\\\\guendm1\\\\Documents\\\\BerlinDenkmal\\\\Testdaten\\\\Sep\\\\Wilhelminenhofstr76-78': {'70618 FHTW 1.BA -Hauptmaßnahme- Projektbeteiligte 070124.pdf': {'Vorgang': 'Informelles Format'}}}\n",
      "pages:  1\n",
      "{'C:\\\\Users\\\\guendm1\\\\Documents\\\\BerlinDenkmal\\\\Testdaten\\\\Sep\\\\Wilhelminenhofstr76-78': {'Abgabenachr.an Ord L_Lärmbelästig..doc': {'Vorgang': 'Keine Kategorie gefunden'}}}\n",
      "{'C:\\\\Users\\\\guendm1\\\\Documents\\\\BerlinDenkmal\\\\Testdaten\\\\Sep\\\\Wilhelminenhofstr76-78': {'Anhörung Versagung Bescheid.doc': {'Vorgang': 'Anhörung'}}}\n",
      "{'C:\\\\Users\\\\guendm1\\\\Documents\\\\BerlinDenkmal\\\\Testdaten\\\\Sep\\\\Wilhelminenhofstr76-78': {'AnhörungVersagung Bescheid.doc': {'Vorgang': 'Anhörung'}}}\n",
      "pages:  1\n",
      "{'C:\\\\Users\\\\guendm1\\\\Documents\\\\BerlinDenkmal\\\\Testdaten\\\\Sep\\\\Wilhelminenhofstr76-78': {'Beherenshalledoc.doc': {'Vorgang': 'Versagung'}}}\n",
      "pages:  1\n",
      "{'C:\\\\Users\\\\guendm1\\\\Documents\\\\BerlinDenkmal\\\\Testdaten\\\\Sep\\\\Wilhelminenhofstr76-78': {'BehrenshalleEntwurf.doc': {'Vorgang': 'Informelles Format'}}}\n",
      "pages:  8\n",
      "{'C:\\\\Users\\\\guendm1\\\\Documents\\\\BerlinDenkmal\\\\Testdaten\\\\Sep\\\\Wilhelminenhofstr76-78': {'Bescheid_FHTW Außenmöbelierung.doc': {'Vorgang': 'Genehmigung'}}}\n",
      "{'C:\\\\Users\\\\guendm1\\\\Documents\\\\BerlinDenkmal\\\\Testdaten\\\\Sep\\\\Wilhelminenhofstr76-78': {'BVV-Anfrage zu Fernmeldekabelfabrik.doc': {'Vorgang': 'Anfrage'}}}\n",
      "pages:  1\n",
      "File does not contain any text data: Erschließung Wilhelminenhofstr 10_2008überarb1.pdf\n",
      "{'C:\\\\Users\\\\guendm1\\\\Documents\\\\BerlinDenkmal\\\\Testdaten\\\\Sep\\\\Wilhelminenhofstr76-78': {'Erschließung Wilhelminenhofstr 10_2008überarb1.pdf': {'Vorgang': 'Informelles Format'}}}\n",
      "pages:  1\n",
      "{'C:\\\\Users\\\\guendm1\\\\Documents\\\\BerlinDenkmal\\\\Testdaten\\\\Sep\\\\Wilhelminenhofstr76-78': {'Fensteraustausch.doc': {'Vorgang': 'Genehmigung'}}}\n",
      "pages:  1\n",
      "{'C:\\\\Users\\\\guendm1\\\\Documents\\\\BerlinDenkmal\\\\Testdaten\\\\Sep\\\\Wilhelminenhofstr76-78': {'Fläche Liegenschaftsfondr.doc': {'Vorgang': 'Keine Kategorie gefunden'}}}\n",
      "pages:  2\n"
     ]
    }
   ],
   "source": [
    "considerDocName=True\n",
    "finalResult={}\n",
    "i=0\n",
    "for root, dirs, files in os.walk(target_dir):\n",
    "    for file in files:\n",
    "        finalResult[root]={}\n",
    "        finalResult[root][file]=vorgang(file, root, considerDocName,'tika')\n",
    "        print(finalResult[root][file])"
   ]
  },
  {
   "cell_type": "code",
   "execution_count": null,
   "metadata": {},
   "outputs": [],
   "source": [
    "print(finalResult)"
   ]
  },
  {
   "cell_type": "code",
   "execution_count": null,
   "metadata": {},
   "outputs": [],
   "source": []
  }
 ],
 "metadata": {
  "kernelspec": {
   "display_name": "Python 3",
   "language": "python",
   "name": "python3"
  },
  "language_info": {
   "codemirror_mode": {
    "name": "ipython",
    "version": 3
   },
   "file_extension": ".py",
   "mimetype": "text/x-python",
   "name": "python",
   "nbconvert_exporter": "python",
   "pygments_lexer": "ipython3",
   "version": "3.8.5"
  }
 },
 "nbformat": 4,
 "nbformat_minor": 4
}
