{
 "cells": [
  {
   "cell_type": "code",
   "execution_count": 11,
   "metadata": {},
   "outputs": [],
   "source": [
    "import os      # For File Manipulations like get paths, rename\n",
    "from flask import Flask, flash, request, redirect, render_template\n",
    "from werkzeug.utils import secure_filename\n",
    "from flask_bootstrap import Bootstrap\n",
    "import findAllAPI as fAll\n",
    "import json"
   ]
  },
  {
   "cell_type": "code",
   "execution_count": 12,
   "metadata": {},
   "outputs": [],
   "source": [
    "findAll=fAll.findAll\n",
    "entries= fAll.entries\n",
    "allEntries=entries().allEntries"
   ]
  },
  {
   "cell_type": "code",
   "execution_count": 18,
   "metadata": {},
   "outputs": [],
   "source": [
    "pathDoc=r'C:\\Users\\guendm1\\Documents\\BerlinDenkmal\\Testdaten\\All\\doc'"
   ]
  },
  {
   "cell_type": "code",
   "execution_count": 19,
   "metadata": {},
   "outputs": [
    {
     "name": "stdout",
     "output_type": "stream",
     "text": [
      "{'299-13,Akazienhof 15_Abriss Schuppenanbau.doc': {'AdresseDict': 'Gartenstadtweg: 15, 16, 17, 18, 19, 20, 21, 22, 23, 24, 25, 26, 27, 28, 29, 30, 31, 32, 33, 34, 35, 36, 37, 38, 39, 40, 41, 42, 43, 44, 45, 46, 47, 48, 49, 50, 51, 52, 53, 54, 55, 56, 57, 58, 59, 60, 61, 62, 63, 64, 65, 66, 68, 70, 72, 74, 75, 76, 77, 78, 79, 80, 81, 82, 83, 84, 85, 86, 87, 88, 89, 90, 91, 92, 93, 94, 95, 96, 97, 98, 99, Akazienhof: 1, 2, 3, 4, 5, 6, 7, 8, 9, 10, 11, 12, 13, 14, 15, 16, 17, 18, 19, 20, 21, 22, 23, 24, 25, 26, Am Falkenberg: 118, 119, 120', 'Denkmalname': 'Freiflächen der Gartenstadt Falkenberg (Tuschkastensiedlung) mit Vorgärten, Platzanlage Akazienhof und Struktur der Mietergärten', 'PLZ': '12524', 'Sachbegriff': 'Freifläche ,  Vorgarten ,  Platzanlage ,  Mietergarten'}}\n"
     ]
    }
   ],
   "source": [
    "HIDA=['Sachbegriff','AdresseDict','PLZ','Denkmalname']\n",
    "file=r'299-13,Akazienhof 15_Abriss Schuppenanbau.doc'\n",
    "file2=r'AnschreibenSteindorf.doc'\n",
    "p=findAll(file,pathDoc,HIDA).resultAll\n",
    "print(p)"
   ]
  },
  {
   "cell_type": "code",
   "execution_count": 20,
   "metadata": {},
   "outputs": [],
   "source": [
    "app=Flask(__name__)\n",
    "Bootstrap(app)\n",
    "app.secret_key = \"secret key\"\n",
    "app.config['MAX_CONTENT_LENGTH'] = 1000 * 1024 * 1024#16mb size of each file"
   ]
  },
  {
   "cell_type": "code",
   "execution_count": 21,
   "metadata": {},
   "outputs": [],
   "source": [
    "path = os.getcwd()\n",
    "# file Upload\n",
    "UPLOAD_FOLDER = os.path.join(path, 'uploads')"
   ]
  },
  {
   "cell_type": "code",
   "execution_count": 22,
   "metadata": {},
   "outputs": [],
   "source": [
    "if not os.path.isdir(UPLOAD_FOLDER):\n",
    "    os.mkdir(UPLOAD_FOLDER)\n",
    "\n",
    "app.config['UPLOAD_FOLDER'] = UPLOAD_FOLDER"
   ]
  },
  {
   "cell_type": "code",
   "execution_count": 23,
   "metadata": {},
   "outputs": [],
   "source": [
    "ALLOWED_EXTENSIONS = set(['txt', 'pdf', 'png', 'jpg', 'jpeg', 'gif','json','doc'])"
   ]
  },
  {
   "cell_type": "code",
   "execution_count": 24,
   "metadata": {},
   "outputs": [],
   "source": [
    "def allowed_file(filename):\n",
    "    return '.' in filename and filename.rsplit('.', 1)[1].lower() in ALLOWED_EXTENSIONS"
   ]
  },
  {
   "cell_type": "code",
   "execution_count": 25,
   "metadata": {},
   "outputs": [],
   "source": [
    "@app.route('/', methods=['GET','POST'])\n",
    "def upload_file():\n",
    "    val=None\n",
    "    if request.method == 'POST':\n",
    "        ########################################\n",
    "        entryReq=request.form.getlist('checkEntry')\n",
    "        ########################################\n",
    "        # check if the post request has the file part\n",
    "        #############################################\n",
    "        if 'files' not in request.files:\n",
    "            flash('Keine Datei')\n",
    "            return redirect(request.url)   \n",
    "        file = request.files['files']\n",
    "        if file.filename == '':\n",
    "            flash('Keine Datei zum Hochladen ausgewählt')\n",
    "            return redirect(request.url)\n",
    "        #############################################\n",
    "        listFiles=list(request.files.listvalues())[0]\n",
    "        allowed=[]\n",
    "        fileNames=[]\n",
    "        for i in range(len(listFiles)):\n",
    "            fileName=listFiles[i].filename\n",
    "            allowed.append(allowed_file(fileName))\n",
    "            if file and allowed_file(fileName):\n",
    "                fileNames.append(fileName)\n",
    "                #filename =  secure_filename(fileName)\n",
    "                #file.save(os.path.join(app.config['UPLOAD_FOLDER'], findVorgang(filename).all))\n",
    "        ########################################\n",
    "        result=findAll(fileNames,pathDoc,entryReq).resultAll\n",
    "        tempFileName=list(result.keys())\n",
    "        headerFile=list(result[tempFileName[0]].keys())\n",
    "        header=['Dateiname']+headerFile\n",
    "        values=[]\n",
    "        for f in tempFileName:\n",
    "            tempList=[f]\n",
    "            for el in headerFile:\n",
    "                tempList.append(result[f][el])\n",
    "            values.append(tempList)\n",
    "        ########################################\n",
    "        if True in allowed:\n",
    "            flash('Dokumente erfolgreich hochgelanden')\n",
    "            return render_template('upload2.html',header=header,values=values,entries=allEntries)\n",
    "        elif False in allowed:\n",
    "            flash('Eine ungültige Datein wurde hochgeladen. Erlaubte Datei-Typen: txt, pdf, png, jpg, jpeg, gif')\n",
    "            return render_template('upload2.html',header=header,values=values,entries=allEntries)\n",
    "        else:\n",
    "            flash('Die Dateien'+ str(fileNames)+' sind alle keine gültigen Datei-Typen. Erlaubte Datei-Typen: txt, pdf, png, jpg, jpeg, gif')\n",
    "            return redirect(request.url)\n",
    "    if request.method =='GET':\n",
    "        return render_template('upload2.html',entries=allEntries)"
   ]
  },
  {
   "cell_type": "code",
   "execution_count": null,
   "metadata": {},
   "outputs": [
    {
     "name": "stdout",
     "output_type": "stream",
     "text": [
      " * Serving Flask app \"__main__\" (lazy loading)\n",
      " * Environment: production\n",
      "   WARNING: This is a development server. Do not use it in a production deployment.\n",
      "   Use a production WSGI server instead.\n",
      " * Debug mode: off\n"
     ]
    },
    {
     "name": "stderr",
     "output_type": "stream",
     "text": [
      " * Running on http://127.0.0.1:5000/ (Press CTRL+C to quit)\n",
      "127.0.0.1 - - [22/Mar/2021 09:45:19] \"\u001b[37mGET / HTTP/1.1\u001b[0m\" 200 -\n",
      "127.0.0.1 - - [22/Mar/2021 09:45:19] \"\u001b[33mGET /dist/css/bootstrap.min.css HTTP/1.1\u001b[0m\" 404 -\n",
      "127.0.0.1 - - [22/Mar/2021 09:45:19] \"\u001b[33mGET /narrow-jumbotron.css HTTP/1.1\u001b[0m\" 404 -\n",
      "127.0.0.1 - - [22/Mar/2021 09:45:19] \"\u001b[33mGET /assets/js/ie10-viewport-bug-workaround.js HTTP/1.1\u001b[0m\" 404 -\n",
      "127.0.0.1 - - [22/Mar/2021 09:45:33] \"\u001b[37mPOST / HTTP/1.1\u001b[0m\" 200 -\n",
      "127.0.0.1 - - [22/Mar/2021 09:45:33] \"\u001b[33mGET /dist/css/bootstrap.min.css HTTP/1.1\u001b[0m\" 404 -\n",
      "127.0.0.1 - - [22/Mar/2021 09:45:33] \"\u001b[33mGET /narrow-jumbotron.css HTTP/1.1\u001b[0m\" 404 -\n",
      "127.0.0.1 - - [22/Mar/2021 09:45:33] \"\u001b[33mGET /assets/js/ie10-viewport-bug-workaround.js HTTP/1.1\u001b[0m\" 404 -\n"
     ]
    }
   ],
   "source": [
    "if __name__ == \"__main__\":\n",
    "    app.run(host = '127.0.0.1',port = 5000, debug = False)"
   ]
  },
  {
   "cell_type": "code",
   "execution_count": null,
   "metadata": {},
   "outputs": [],
   "source": []
  },
  {
   "cell_type": "code",
   "execution_count": null,
   "metadata": {},
   "outputs": [],
   "source": []
  }
 ],
 "metadata": {
  "kernelspec": {
   "display_name": "Python 3",
   "language": "python",
   "name": "python3"
  },
  "language_info": {
   "codemirror_mode": {
    "name": "ipython",
    "version": 3
   },
   "file_extension": ".py",
   "mimetype": "text/x-python",
   "name": "python",
   "nbconvert_exporter": "python",
   "pygments_lexer": "ipython3",
   "version": "3.8.5"
  }
 },
 "nbformat": 4,
 "nbformat_minor": 4
}
