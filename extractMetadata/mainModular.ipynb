{
 "cells": [
  {
   "cell_type": "code",
   "execution_count": null,
   "id": "classified-rider",
   "metadata": {},
   "outputs": [],
   "source": [
    "import json\n",
    "from pathlib import Path\n",
    "\n",
    "import Adresse.relateAdresse as relateAdresse\n",
    "import Objnr.getObjnr as getObjnr\n",
    "import Objnr.relateObjnr as relateObjnr\n",
    "import extract.extractDatum as extractDatum\n",
    "import extract.extractText as extractText\n",
    "import Vorgang.relateVorgang as relateVorgang\n",
    "import Vorhaben.relateVorhaben as relateVorhaben\n",
    "import Misc.helpers as helpers\n",
    "import Datum.relateDatum as relateDatum"
   ]
  },
  {
   "cell_type": "code",
   "execution_count": null,
   "id": "moderate-volleyball",
   "metadata": {},
   "outputs": [],
   "source": [
    "einleseMethode = 'tika' # 'docx'\n",
    "\n",
    "dateidir = \"C:\\\\Users\\\\schull\\\\Projekte\\\\KIbarDok\\\\testDaten\"\n",
    "ordnerStruktur = r'Dictionaries\\ordnerStrukturTest.json' # r\"C:\\Users\\schull\\Projekte\\KIbarDok\\bu\\ordnerStrukturTreptow.json\"\n",
    "\n",
    "\n",
    "#datei = \"291-12,W'hofstr.76-78_Neubau Kultur-Abstimmg.Farbe.doc\"\n",
    "#datei = 'Zustimmg._Forschg.zentr.f.Kultur+Informatik.doc' # \n",
    "#datei = '733-12,Akazienhof 15_IS Doppelschuppen.doc'\n",
    "#datei = 'Zustimmg. Breer, Leuchten.doc' #\"2011-01-12 Parkplatz.pdf\" # \n",
    "#datei = 'WG  Schuppen  Akazienhof 15.msg'\n",
    "#datei = \"HTW_Proto PG.pdf\"\n",
    "#datei = \"Zw.info an SenStadt_Fensterprofile.doc\"\n",
    "#datei = \"Schr.an SenStadt,Fr.Natschke_Unterl.fehlen noch.doc\"\n",
    "datei = \"Beherenshalledoc.doc\""
   ]
  },
  {
   "cell_type": "code",
   "execution_count": null,
   "id": "composed-impact",
   "metadata": {},
   "outputs": [],
   "source": [
    "pfad, \\\n",
    "hoechsterPfad, \\\n",
    "reversedDictionary, \\\n",
    "directories = helpers.getDirectory(datei, ordnerStruktur)"
   ]
  },
  {
   "cell_type": "code",
   "execution_count": null,
   "id": "proof-ontario",
   "metadata": {},
   "outputs": [],
   "source": [
    "objnr = []\n",
    "adresse = []\n",
    "adressen = []\n",
    "denkmalname = []\n",
    "sachbegriff = []\n",
    "objnrMethode = []\n",
    "behoerde = []\n",
    "vorhaben = []\n",
    "vorhabenScore = ''\n",
    "vorgang = ''\n",
    "inhalt = ''\n",
    "daten = []\n",
    "adrDict = {}\n",
    "\n",
    "metadata = {pfad: {datei: {'objnr': objnr, 'adresse': adresse, 'denkmalname': denkmalname, 'sachbegriff': sachbegriff, \\\n",
    "                                'objnrMethode': objnrMethode, 'behoerde': behoerde, 'vorhaben': vorhaben, 'vorhabenScore': vorhabenScore, \\\n",
    "                                'vorgang': vorgang, 'daten': daten, 'inhalt': inhalt, 'adrDict': adrDict, 'pfadAktuell': dateidir}}}"
   ]
  },
  {
   "cell_type": "code",
   "execution_count": null,
   "id": "widespread-edgar",
   "metadata": {},
   "outputs": [],
   "source": [
    "# Inhalt extrahieren\n",
    "metadata[pfad][datei]['inhalt'] = extractText.getInhalt(metadata, einleseMethode)"
   ]
  },
  {
   "cell_type": "code",
   "execution_count": null,
   "id": "fabulous-label",
   "metadata": {},
   "outputs": [],
   "source": [
    "# Adresse identifizieren\n",
    "metadata[pfad][datei]['adrDict'], \\\n",
    "metadata[pfad][datei]['adresse'], adrName = relateAdresse.findAdresse(metadata, einleseMethode)"
   ]
  },
  {
   "cell_type": "code",
   "execution_count": null,
   "id": "based-owner",
   "metadata": {},
   "outputs": [],
   "source": [
    "# Objektnummer identifizieren\n",
    "metadata[pfad][datei]['objnr'], \\\n",
    "metadata[pfad][datei]['behoerde'], \\\n",
    "metadata[pfad][datei]['objnrMethode'] = relateObjnr.relateObjnr(metadata, einleseMethode)"
   ]
  },
  {
   "cell_type": "code",
   "execution_count": null,
   "id": "usual-render",
   "metadata": {},
   "outputs": [],
   "source": [
    "# Daten identifizieren\n",
    "metadata[pfad][datei]['daten'] = relateDatum.datum(metadata, einleseMethode)"
   ]
  },
  {
   "cell_type": "code",
   "execution_count": null,
   "id": "human-arkansas",
   "metadata": {},
   "outputs": [],
   "source": [
    "# Sachbegriffe zum Denkmalobjekt\n",
    "metadata[pfad][datei]['sachbegriff'] = relateObjnr.getSachbegriff(metadata, einleseMethode)"
   ]
  },
  {
   "cell_type": "code",
   "execution_count": null,
   "id": "awful-measure",
   "metadata": {},
   "outputs": [],
   "source": [
    "# Denkmalname zum Denkmalobjekt\n",
    "metadata[pfad][datei]['denkmalname'] = relateObjnr.getDenkmalname(metadata, einleseMethode)"
   ]
  },
  {
   "cell_type": "code",
   "execution_count": null,
   "id": "finnish-ozone",
   "metadata": {},
   "outputs": [],
   "source": [
    "# Vorhaben identifizieren\n",
    "#metadata[pfad][datei]['vorhaben'], \\\n",
    "#metadata[pfad][datei]['vorhabenScore'] = relateVorhaben.vorhaben(metadata, hoechsterPfad, einleseMethode)\n",
    "\n",
    "metadata[pfad][datei]['vorhaben'], \\\n",
    "metadata[pfad][datei]['vorhabenScore'] = relateVorhaben.vorhaben(metadata, directories, ordnerStruktur, einleseMethode)"
   ]
  },
  {
   "cell_type": "code",
   "execution_count": null,
   "id": "forced-supplement",
   "metadata": {},
   "outputs": [],
   "source": [
    "# Vorgang identifizieren\n",
    "metadata[pfad][datei]['vorgang'] = relateVorgang.vorgang(pfad,datei,True,einleseMethode,True)[pfad][datei]['vorgang']"
   ]
  },
  {
   "cell_type": "code",
   "execution_count": null,
   "id": "remarkable-traffic",
   "metadata": {},
   "outputs": [],
   "source": [
    "# Save metadata (increments json-file)\n",
    "results_path = Path(r'Dictionaries\\metadatenDict.json')\n",
    "helpers.saveMetadata(metadata, results_path)"
   ]
  }
 ],
 "metadata": {
  "kernelspec": {
   "display_name": "env",
   "language": "python",
   "name": "env"
  },
  "language_info": {
   "codemirror_mode": {
    "name": "ipython",
    "version": 3
   },
   "file_extension": ".py",
   "mimetype": "text/x-python",
   "name": "python",
   "nbconvert_exporter": "python",
   "pygments_lexer": "ipython3",
   "version": "3.9.1"
  }
 },
 "nbformat": 4,
 "nbformat_minor": 5
}
