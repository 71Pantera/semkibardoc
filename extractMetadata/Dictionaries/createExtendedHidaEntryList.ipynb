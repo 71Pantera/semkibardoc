{
 "cells": [
  {
   "cell_type": "code",
   "execution_count": 6,
   "metadata": {},
   "outputs": [],
   "source": [
    "import json"
   ]
  },
  {
   "cell_type": "code",
   "execution_count": 9,
   "metadata": {},
   "outputs": [],
   "source": [
    "hida=r'C:\\Users\\guendm1\\Documents\\BerlinDenkmal\\Denkmalliste\\Dictionaries\\hida\\HidaDict.json'\n",
    "with open(hida) as g:\n",
    "    hida = json.load(g)"
   ]
  },
  {
   "cell_type": "code",
   "execution_count": 11,
   "metadata": {},
   "outputs": [],
   "source": [
    "extendedHida=r'C:\\Users\\guendm1\\Documents\\BerlinDenkmal\\Denkmalliste\\Dictionaries\\hida\\ExtendedHidaDict.json'\n",
    "with open(extendedHida) as g:\n",
    "    extendedHida = json.load(g)"
   ]
  },
  {
   "cell_type": "code",
   "execution_count": 13,
   "metadata": {},
   "outputs": [],
   "source": [
    "def createKeyList(dictionary):\n",
    "    keyList=[]\n",
    "    for key,val in dictionary.items():\n",
    "        for k in val.keys():\n",
    "            if k not in keyList:\n",
    "                keyList.append(k)\n",
    "    return keyList"
   ]
  },
  {
   "cell_type": "code",
   "execution_count": 14,
   "metadata": {},
   "outputs": [
    {
     "name": "stdout",
     "output_type": "stream",
     "text": [
      "['Objekt-Typ', 'OBJ-Dok-Nr', 'Bezirk', 'Sttl-Schlüssel', 'Ortsteil', 'AdresseDict', 'Denkmalart', 'Denkmalname', 'Sachbegriff', 'Bildaten', 'Datierung', 'Num-Dat', 'Künstler-Rolle', 'Künstler-Name', 'Künstler-Funktion', 'Sozietät-Art-Rolle', 'Sozietät-Name', 'Sozietät-ber-Funktion', 'Listentext', 'K-Begründung', 'Text-Textart', 'Text-Dokument', 'Text-Pdf-Dokument', 'Sonstige-Erfassung', 'Sonstige-Erfassung-Ausführung', 'Referenz', 'Referenz-Seiten', 'Ausw-Stelle', 'Eintr-Datum', 'Fortschreibungsbogen', 'PLZ', 'Status', 'Siehe-Beziehung', 'LinkGrad1ObjNr', 'Digital-Quelle-Textart', 'Digital-Quelle-Stelle', 'Digital-Quelle', 'Urh-Autor', 'Erfassungsdatum', 'Künstler-Kue-Komm', 'Sozietät-Soz-Komm', 'Bildaten-Quelle', 'LinkGrad2ObjNr', 'Teil-Obj-Dok-Nr', 'Künstler-Gel-Dauer', 'Digital-Quelle-Kommentart', 'Ortsbeschreibung', 'Sozietät-Gelt-Dauer', 'HauptObjNr', 'Person-Art-Rolle', 'Person-Name', 'Person-Funktion', 'Person-ber-Rang', 'Person-Gelt-Dauer', 'Person-Per-Komm', 'Künstler-Rang', 'Teil-Beziehung', 'Sonstige-Ausführung', 'Ensemble-Teil', 'Topographietext', 'Sozietät-ber-Rang']\n"
     ]
    }
   ],
   "source": [
    "print(createKeyList(extendedHida))"
   ]
  },
  {
   "cell_type": "code",
   "execution_count": 15,
   "metadata": {},
   "outputs": [
    {
     "name": "stdout",
     "output_type": "stream",
     "text": [
      "['Objekt-Typ', 'OBJ-Dok-Nr', 'Beziehung', 'Bezirk', 'Sttl-Schlüssel', 'Ortsteil', 'Straße', 'Hausnummer', 'Adresse', 'AdresseDict', 'Denkmalart', 'Denkmalname', 'Sachbegriff', 'Bildaten', 'Datierung', 'Num-Dat', 'Künstler-Rolle', 'Künstler-Name', 'Künstler-Funktion', 'Sozietät-Art-Rolle', 'Sozietät-Name', 'Sozietät-ber-Funktion', 'Listentext', 'K-Begründung', 'Text-Textart', 'Text-Dokument', 'Text-Pdf-Dokument', 'Sonstige-Erfassung', 'Sonstige-Erfassung-Ausführung', 'Referenz', 'Referenz-Seiten', 'Ausw-Stelle', 'Eintr-Datum', 'Fortschreibungsbogen', 'Digital-Quelle-Textart', 'Digital-Quelle-Stelle', 'Digital-Quelle', 'Urh-Autor', 'Erfassungsdatum', 'Künstler-Kue-Komm', 'Sozietät-Soz-Komm', 'Bildaten-Quelle', 'Teil-Obj-Dok-Nr', 'Künstler-Gel-Dauer', 'Digital-Quelle-Kommentart', 'Ortsbeschreibung', 'Sozietät-Gelt-Dauer', 'Person-Art-Rolle', 'Person-Name', 'Person-Funktion', 'Person-ber-Rang', 'Person-Gelt-Dauer', 'Person-Per-Komm', 'Künstler-Rang', 'Sonstige-Ausführung', 'Topographietext', 'Sozietät-ber-Rang']\n"
     ]
    }
   ],
   "source": [
    "print(createKeyList(hida))"
   ]
  },
  {
   "cell_type": "code",
   "execution_count": 16,
   "metadata": {},
   "outputs": [
    {
     "name": "stdout",
     "output_type": "stream",
     "text": [
      "{'hida': ['Objekt-Typ', 'OBJ-Dok-Nr', 'Beziehung', 'Bezirk', 'Sttl-Schlüssel', 'Ortsteil', 'Straße', 'Hausnummer', 'Adresse', 'AdresseDict', 'Denkmalart', 'Denkmalname', 'Sachbegriff', 'Bildaten', 'Datierung', 'Num-Dat', 'Künstler-Rolle', 'Künstler-Name', 'Künstler-Funktion', 'Sozietät-Art-Rolle', 'Sozietät-Name', 'Sozietät-ber-Funktion', 'Listentext', 'K-Begründung', 'Text-Textart', 'Text-Dokument', 'Text-Pdf-Dokument', 'Sonstige-Erfassung', 'Sonstige-Erfassung-Ausführung', 'Referenz', 'Referenz-Seiten', 'Ausw-Stelle', 'Eintr-Datum', 'Fortschreibungsbogen', 'Digital-Quelle-Textart', 'Digital-Quelle-Stelle', 'Digital-Quelle', 'Urh-Autor', 'Erfassungsdatum', 'Künstler-Kue-Komm', 'Sozietät-Soz-Komm', 'Bildaten-Quelle', 'Teil-Obj-Dok-Nr', 'Künstler-Gel-Dauer', 'Digital-Quelle-Kommentart', 'Ortsbeschreibung', 'Sozietät-Gelt-Dauer', 'Person-Art-Rolle', 'Person-Name', 'Person-Funktion', 'Person-ber-Rang', 'Person-Gelt-Dauer', 'Person-Per-Komm', 'Künstler-Rang', 'Sonstige-Ausführung', 'Topographietext', 'Sozietät-ber-Rang'], 'extendedHida': ['Objekt-Typ', 'OBJ-Dok-Nr', 'Bezirk', 'Sttl-Schlüssel', 'Ortsteil', 'AdresseDict', 'Denkmalart', 'Denkmalname', 'Sachbegriff', 'Bildaten', 'Datierung', 'Num-Dat', 'Künstler-Rolle', 'Künstler-Name', 'Künstler-Funktion', 'Sozietät-Art-Rolle', 'Sozietät-Name', 'Sozietät-ber-Funktion', 'Listentext', 'K-Begründung', 'Text-Textart', 'Text-Dokument', 'Text-Pdf-Dokument', 'Sonstige-Erfassung', 'Sonstige-Erfassung-Ausführung', 'Referenz', 'Referenz-Seiten', 'Ausw-Stelle', 'Eintr-Datum', 'Fortschreibungsbogen', 'PLZ', 'Status', 'Siehe-Beziehung', 'LinkGrad1ObjNr', 'Digital-Quelle-Textart', 'Digital-Quelle-Stelle', 'Digital-Quelle', 'Urh-Autor', 'Erfassungsdatum', 'Künstler-Kue-Komm', 'Sozietät-Soz-Komm', 'Bildaten-Quelle', 'LinkGrad2ObjNr', 'Teil-Obj-Dok-Nr', 'Künstler-Gel-Dauer', 'Digital-Quelle-Kommentart', 'Ortsbeschreibung', 'Sozietät-Gelt-Dauer', 'HauptObjNr', 'Person-Art-Rolle', 'Person-Name', 'Person-Funktion', 'Person-ber-Rang', 'Person-Gelt-Dauer', 'Person-Per-Komm', 'Künstler-Rang', 'Teil-Beziehung', 'Sonstige-Ausführung', 'Ensemble-Teil', 'Topographietext', 'Sozietät-ber-Rang']}\n"
     ]
    }
   ],
   "source": [
    "entriesHida={'hida': createKeyList(hida), 'extendedHida':createKeyList(extendedHida)}\n",
    "print(entriesHida)"
   ]
  },
  {
   "cell_type": "code",
   "execution_count": 17,
   "metadata": {},
   "outputs": [
    {
     "name": "stdout",
     "output_type": "stream",
     "text": [
      "successfully saved\n"
     ]
    }
   ],
   "source": [
    "with open('hida\\entriesHida.json', 'w') as fp:\n",
    "    json.dump(entriesHida, fp,  indent=4,ensure_ascii=False)\n",
    "print('successfully saved')"
   ]
  },
  {
   "cell_type": "code",
   "execution_count": null,
   "metadata": {},
   "outputs": [],
   "source": []
  }
 ],
 "metadata": {
  "kernelspec": {
   "display_name": "Python 3",
   "language": "python",
   "name": "python3"
  },
  "language_info": {
   "codemirror_mode": {
    "name": "ipython",
    "version": 3
   },
   "file_extension": ".py",
   "mimetype": "text/x-python",
   "name": "python",
   "nbconvert_exporter": "python",
   "pygments_lexer": "ipython3",
   "version": "3.8.5"
  }
 },
 "nbformat": 4,
 "nbformat_minor": 4
}
