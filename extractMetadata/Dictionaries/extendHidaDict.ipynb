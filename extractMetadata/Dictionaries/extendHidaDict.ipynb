{
 "cells": [
  {
   "cell_type": "code",
   "execution_count": 1,
   "metadata": {},
   "outputs": [],
   "source": [
    "import json\n",
    "import schluesselregex as rex\n",
    "import re\n",
    "import numpy as np\n",
    "from geopy.geocoders import Nominatim"
   ]
  },
  {
   "cell_type": "code",
   "execution_count": 2,
   "metadata": {},
   "outputs": [],
   "source": [
    "with open('hida\\HidaDict.json') as f:\n",
    "  hidaDict = json.load(f)\n",
    "\n",
    "with open('hida\\HidaDictPLZ.json') as f:\n",
    "  hidaDictPLZ = json.load(f)\n",
    "\n",
    "with open('pdf\\DenkmallisteBerlin.json') as g:\n",
    "  pdfDict = json.load(g)\n",
    "\n",
    "with open('hida\\entryKeysHida.json') as h:\n",
    "  entryHida = json.load(h)"
   ]
  },
  {
   "cell_type": "code",
   "execution_count": 3,
   "metadata": {},
   "outputs": [],
   "source": [
    "#helper functions\n",
    "def remElementDictionary(dict,listElements):\n",
    "    for element in listElements:\n",
    "        if element in dict.keys():\n",
    "            del dict[element]\n",
    "    return dict\n",
    "\n",
    "def hidaKeyListConverter(listElements):\n",
    "    newList=[]\n",
    "    for element in listElements:\n",
    "        newList.append(entryHida[element])\n",
    "    return newList"
   ]
  },
  {
   "cell_type": "code",
   "execution_count": 4,
   "metadata": {},
   "outputs": [],
   "source": [
    "#stelt die richtige Beziehung für T her\n",
    "objNrKeys=list(hidaDict.keys())\n",
    "for n in range(0,len(objNrKeys)):\n",
    "    key=objNrKeys[n]\n",
    "    if ('Beziehung' in hidaDict[key].keys()):\n",
    "        hidaDict[key]['Beziehung2']={}\n",
    "        for bezKey in hidaDict[key]['Beziehung'].keys():# there are multiple bezKey, bez= Beziehung\n",
    "            if bezKey not in hidaDict.keys():#Beziehung e.g. do not explicitely refer to the 09096451,T and 9075895,T  but instead to 09096451 and 9075895\n",
    "                bezKeyT = bezKey+',T'\n",
    "            else:\n",
    "                bezKeyT = bezKey\n",
    "            hidaDict[key]['Beziehung2'][bezKeyT]=hidaDict[key]['Beziehung'][bezKey]\n",
    "        del hidaDict[key]['Beziehung']\n",
    "        hidaDict[key]['Beziehung']= hidaDict[key]['Beziehung2']\n",
    "        del hidaDict[key]['Beziehung2']\n",
    "        #print(hidaDict[key]['Beziehung'])"
   ]
  },
  {
   "cell_type": "code",
   "execution_count": 5,
   "metadata": {},
   "outputs": [],
   "source": [
    "#doppelte Adressen\n",
    "# adresse={}\n",
    "# objNrKeys=list(hidaDict.keys())\n",
    "# for n in range(0,len(objNrKeys)):\n",
    "#     key=objNrKeys[n]\n",
    "#     if ('Listentext' in hidaDict[key].keys()):\n",
    "#         adresse[key]=[]\n",
    "#         content=hidaDict[key]['Listentext']\n",
    "#         #print('content: ', content)\n",
    "#         adr=set(rex.getRegex(content).adresse)\n",
    "#         #print('adr: ', adr)\n",
    "#         for elAdr in adr:\n",
    "#             adresse.keys()[adresse.values().index(elAdr)]\n",
    "#             #newElAdr=re.findall('\\D+',elAdr)[0]\n",
    "#             if elAdr not in adresse.values():\n",
    "#                 adresse[key].append(elAdr)\n",
    "#             else:\n",
    "                \n",
    "                \n",
    "#             elif hidaDict[key]['Bez-OBJ-Nr']!=key:\n",
    "#                 print('objNr: ',key,'Bez-OBJ-Nr: ',hidaDict[key]['Bez-OBJ-Nr'],'elAdr: ', elAdr)\n",
    "# print('adresse: ', adresse)\n",
    "        \n"
   ]
  },
  {
   "cell_type": "code",
   "execution_count": 6,
   "metadata": {},
   "outputs": [],
   "source": [
    "def removeR2(s):\n",
    "    for el in re.findall(r'\\(.*?\\)', s):\n",
    "        if 'siehe' in el:\n",
    "            s=s.replace(el,\"\")\n",
    "    return s\n",
    "\n",
    "def findR2(s):\n",
    "    elList=[]\n",
    "    for el in re.findall(r'\\(.*?\\)', s):\n",
    "        if 'siehe' in el:\n",
    "            elList.append(el)\n",
    "    return elList"
   ]
  },
  {
   "cell_type": "code",
   "execution_count": 7,
   "metadata": {},
   "outputs": [],
   "source": [
    "adresse=[]\n",
    "keyAdresse=[]\n",
    "bezKeyAdresse=[]\n",
    "objNrKeys=list(hidaDict.keys())\n",
    "i=0\n",
    "for n in range(0,len(objNrKeys)):\n",
    "    key=objNrKeys[n]\n",
    "    #if ('Bez-OBJ-Nr' in hidaDict[key].keys()) and ('Denkmalart' not in hidaDict[key].keys()):\n",
    "    #if 'Bez-OBJ-Nr' in hidaDict[key].keys() and len(hidaDict[key]['Bez-OBJ-Nr'])!= len(hidaDict[key]['Beziehung']):\n",
    "    #if 'Bez-OBJ-Nr' in hidaDict[key].keys() and \"Teil von\" in hidaDict[key]['Beziehung'] and 'Denkmalart' in hidaDict[key].keys() and hidaDict[key]['Denkmalart']=='Gesamtanlage':\n",
    "    #if 'Beziehung' in hidaDict[key].keys() and 'Denkmalart' in hidaDict[key].keys() and hidaDict[key]['Denkmalart']=='Gesamtanlage':\n",
    "    #if 'Denkmalart' in hidaDict[bezKey+ ' '].keys() and hidaDict[bezKey+' ']['Denkmalart']=='Ensemble':\n",
    "    #if bezKey+' ' in hidaDict.keys() and not bezKey+',T' in hidaDict.keys():\n",
    "    #if 'Straße' not in hidaDict[key].keys() and 'T,0' not in key:\n",
    "        #i+=1\n",
    "        #print('i=: ', i ,'key: ', key)\n",
    "        #print(hidaDict[key]['Listentext'],'\\n')\n",
    "        #print('bezKey: ', hidaDict[key]['Beziehung'])"
   ]
  },
  {
   "cell_type": "code",
   "execution_count": 8,
   "metadata": {},
   "outputs": [
    {
     "name": "stdout",
     "output_type": "stream",
     "text": [
      "i=:  0 key:  09097763 Friedrichshain-Kreuzberg & Mitte & Pankow & Treptow-Köpenick\n",
      "i=:  1 key:  09080614,T Friedrichshain-Kreuzberg & Treptow-Köpenick\n",
      "i=:  2 key:  09075292 Steglitz-Zehlendorf & Charlottenburg-Wilmersdorf\n",
      "i=:  3 key:  09065204 Mitte & Pankow\n",
      "i=:  4 key:  09055092,T Tempelhof-Schöneberg & Neukölln\n",
      "i=:  5 key:  09055090 Tempelhof-Schöneberg & Neukölln\n",
      "i=:  6 key:  09055089 Friedrichshain-Kreuzberg & Tempelhof-Schöneberg\n",
      "i=:  7 key:  09050364,T Charlottenburg-Wilmersdorf & Friedrichshain-Kreuzberg & Mitte & Neukölln\n",
      "i=:  8 key:  09045000 Reinickendorf & Pankow\n",
      "i=:  9 key:  09040492 Charlottenburg-Wilmersdorf & Spandau\n",
      "i=:  10 key:  09040456 Charlottenburg-Wilmersdorf & Friedrichshain-Kreuzberg & Tempelhof-Schöneberg\n",
      "i=:  11 key:  09030358 Mitte & Pankow\n",
      "i=:  12 key:  09011323,T Charlottenburg-Wilmersdorf & Mitte & Friedrichshain-Kreuzberg\n"
     ]
    }
   ],
   "source": [
    "#finde heraus welche Objekte mehrere Bezirke enthalten (außer 'T,0'):\n",
    "objNrKeys=list(hidaDict.keys())\n",
    "i=0\n",
    "for n in range(0,len(objNrKeys)):\n",
    "    key=objNrKeys[n]\n",
    "    if 'Bezirk' in hidaDict[key].keys() and 'T,0' not in key and '&' in hidaDict[key]['Bezirk']:\n",
    "        print('i=: ', i ,'key: ', key,hidaDict[key]['Bezirk'])\n",
    "        i+=1"
   ]
  },
  {
   "cell_type": "code",
   "execution_count": 9,
   "metadata": {},
   "outputs": [
    {
     "name": "stdout",
     "output_type": "stream",
     "text": [
      "i=:  0 key:  09097763 Friedrichshain-Kreuzberg & Mitte & Pankow & Treptow-Köpenick\n"
     ]
    }
   ],
   "source": [
    "#finde heraus welche Objekte kein Ortsteil enthalten (außer 'T,0'):\n",
    "objNrKeys=list(hidaDict.keys())\n",
    "i=0\n",
    "for n in range(0,len(objNrKeys)):\n",
    "    key=objNrKeys[n]\n",
    "    if 'Ortsteil' not in hidaDict[key].keys() and 'T,0' not in key:\n",
    "        print('i=: ', i ,'key: ', key,hidaDict[key]['Bezirk'])\n",
    "        i+=1"
   ]
  },
  {
   "cell_type": "code",
   "execution_count": 10,
   "metadata": {},
   "outputs": [],
   "source": [
    "#finde ob Sachbegriffe enthalten sind (außer 'T,0'):\n",
    "objNrKeys=list(hidaDict.keys())\n",
    "i=0\n",
    "for n in range(0,len(objNrKeys)):\n",
    "    key=objNrKeys[n]\n",
    "    if 'Sachbegriff' not in hidaDict[key].keys() and 'T,0' not in key:\n",
    "        print('i=: ', i ,'key: ', key)\n",
    "        i+=1"
   ]
  },
  {
   "cell_type": "code",
   "execution_count": 11,
   "metadata": {},
   "outputs": [
    {
     "name": "stdout",
     "output_type": "stream",
     "text": [
      "i=:  0 key:  09097763 ['Berliner Mauer']\n",
      "i=:  1 key:  09096022 ['Stellwerk Rs VI']\n",
      "i=:  2 key:  09096020 ['Ostbahnüberführung']\n",
      "i=:  3 key:  09095359 ['Mechanisches Stellwerk']\n",
      "i=:  4 key:  09095356 ['Wasserturm']\n",
      "i=:  5 key:  09095209 ['Lokomotiv - Rundschuppen']\n",
      "i=:  6 key:  09095001 ['Ringbahnbrücke Oberspree, Stellwerk und Unterführung Alt-Stralau mit Bahndamm-Mauer']\n",
      "i=:  7 key:  09085839 ['Westlicher Abzugsgraben']\n",
      "i=:  8 key:  09085803 ['Siemensbahn (zwischen Bezirksgrenze und Bahnhof Gartenfeld) ', ' Bahnhof Wernerwerk ', ' Bahnhof Siemensstadt ', ' Endbahnhof Gartenfeld ', ' Stellwerk Gartenfeld ', ' Viadukt Rohrdamm, Gleichrichterwerk Rohrdamm']\n",
      "i=:  9 key:  09085704 ['östlicher Abzugsgraben']\n",
      "i=:  10 key:  09075622 ['Einschnittbahn der U-Bahnlinie U 1 zwischen U-Bhf. Podbielskiallee und U-Bhf. Krumme Lanke mit Straßenbrücken über Clayallee, Landoltweg, Habelschwerdter Allee, Fabeckstraße, Königin-Luise-Straße']\n",
      "i=:  11 key:  09075538 ['Glienicker Brücke']\n",
      "i=:  12 key:  09055074 ['Lankwitz-Mariendorfer Fußgängerbrücke']\n",
      "i=:  13 key:  09040456 ['Stammlinie (ehemaliger Begriff) ', ' U-Bahnlinie 1 und 2 (von Warschauer Straße bis Ruhleben)']\n",
      "i=:  14 key:  09040276 ['U-Bahnhof Schönhauser Allee']\n",
      "i=:  15 key:  09030339 ['Kleingleichrichterwerk ', ' Umspannwerk Bahn']\n",
      "i=:  16 key:  09011793 ['Güterbahnhof Lübars']\n",
      "i=:  17 key:  09011323,T ['Stadtbahntrasse zwischen Ostbahnhof und Holtzendorffstraße, Stadtbahnviadukt']\n",
      "i=:  18 key:  09010197 ['Luisenstädtischer Kanal und Engelbecken zwischen Waldemarstraße und Schillingbrücke']\n"
     ]
    }
   ],
   "source": [
    "#finde heraus welche Objekte keine Adresse enthalten (außer 'T,0'):\n",
    "objNoAdress=[]\n",
    "objNrKeys=list(hidaDict.keys())\n",
    "i=0\n",
    "for n in range(0,len(objNrKeys)):\n",
    "    key=objNrKeys[n]\n",
    "    if 'Straße' not in hidaDict[key].keys() and 'T,0' not in key:\n",
    "        print('i=: ', i ,'key: ', key,hidaDict[key]['Denkmalname'])\n",
    "        objNoAdress.append(key)\n",
    "        i+=1"
   ]
  },
  {
   "cell_type": "code",
   "execution_count": 12,
   "metadata": {},
   "outputs": [],
   "source": [
    "#finde heraus welche Objekte auf sich selbst referenzieren\n",
    "objNrKeys=list(hidaDict.keys())\n",
    "error=[]\n",
    "i=0\n",
    "for n in range(0,len(objNrKeys)):\n",
    "    key=objNrKeys[n]\n",
    "    if 'Beziehung' in hidaDict[key].keys():\n",
    "        for bezKey in hidaDict[key]['Beziehung'].keys():\n",
    "            if bezKey == key:#  and 'Denkmalart' in hidaDict[key].keys() and hidaDict[key]['Denkmalart']=='Ensembleteil':\n",
    "                bezDenkmalArt=hidaDict[bezKey]['Denkmalart']\n",
    "                denkmalArt=hidaDict[key]['Denkmalart']\n",
    "                i+=1\n",
    "                error.append(key)\n",
    "                print('i: ',i,' key: ',key,' bezKey: ',bezKey, ' wobei ',denkmalArt,hidaDict[key]['Beziehung'][bezKey], bezDenkmalArt,'Adresse: ',hidaDict[key]['Adresse'])"
   ]
  },
  {
   "cell_type": "code",
   "execution_count": 13,
   "metadata": {},
   "outputs": [
    {
     "name": "stdout",
     "output_type": "stream",
     "text": [
      "i:  1  key:  09075583  bezKey:  09045986  wobei  Ensembleteil siehe auch Gartendenkmal Gartendenkmal\n",
      "i:  2  key:  09035427  bezKey:  09020495  wobei  Ensembleteil siehe auch Baudenkmal Baudenkmal\n",
      "i:  3  key:  09020538  bezKey:  09046327  wobei  Ensembleteil siehe auch Gartendenkmal Gartendenkmal\n"
     ]
    }
   ],
   "source": [
    "# finde, ob außer Ensembles auch andere Arten eine Teil-Beziehung aufweisen\n",
    "objNrKeys=list(hidaDict.keys())\n",
    "i=0\n",
    "for n in range(0,len(objNrKeys)):\n",
    "    key=objNrKeys[n]\n",
    "    if 'Beziehung' in hidaDict[key].keys():\n",
    "        for bezKey in hidaDict[key]['Beziehung'].keys():\n",
    "            if (\"mjsv\") not in hidaDict[key]['Beziehung'][bezKey] and 'Denkmalart' in hidaDict[key].keys() and hidaDict[key]['Denkmalart']=='Ensembleteil':\n",
    "                if bezKey not in hidaDict.keys():#Beziehung e.g. do not explicitely refer to the 09096451,T and 9075895,T  but instead to 09096451 and 9075895\n",
    "                    bezKeyT = bezKey+',T'\n",
    "                    bezDenkmalArt=hidaDict[bezKeyT]['Denkmalart']\n",
    "                else:\n",
    "                    bezKeyT = bezKey\n",
    "                    bezDenkmalArt=hidaDict[bezKeyT]['Denkmalart']\n",
    "                denkmalArt=hidaDict[key]['Denkmalart']\n",
    "                if bezDenkmalArt!='Ensemble':\n",
    "                    i+=1\n",
    "                    print('i: ',i,' key: ',key,' bezKey: ',bezKeyT, ' wobei ',denkmalArt,hidaDict[key]['Beziehung'][bezKey], bezDenkmalArt)"
   ]
  },
  {
   "cell_type": "code",
   "execution_count": 14,
   "metadata": {},
   "outputs": [],
   "source": [
    "# finde, ob es Beziehungen von einem Objekt zu einem anderen existiert. Hier sollen die Beziehungen, die keine Adressen enthalten vernachlässigt werden.\n",
    "objNrKeys=list(hidaDict.keys())\n",
    "i=0\n",
    "exception=[]\n",
    "#finde objnr die keine Adresse enthalten\n",
    "for n in range(0,len(objNrKeys)):\n",
    "    key=objNrKeys[n]\n",
    "    if 'Straße' not in hidaDict[key].keys() and 'T,0' not in key:\n",
    "        exception.append(key)\n",
    "        #print('key: ', key , 'Denkmalname: ', hidaDict[key]['Denkmalname'])\n",
    "#print(exception)\n",
    "for n in range(0,len(objNrKeys)):\n",
    "    key=objNrKeys[n]\n",
    "    if 'Beziehung' in hidaDict[key].keys():\n",
    "        for bezKey in hidaDict[key]['Beziehung'].keys():\n",
    "            if (\"Teil\" or \"siehe\") in hidaDict[key]['Beziehung'][bezKey] and 'Denkmalart' in hidaDict[key].keys() and hidaDict[key]['Denkmalart']!='Ensembleteil':\n",
    "                bezDenkmalArt=hidaDict[bezKeyT]['Denkmalart']\n",
    "                denkmalArt=hidaDict[key]['Denkmalart']\n",
    "                if bezDenkmalArt=='Ensembleteil' and bezKey not in exception and key not in exception:\n",
    "                    i+=1\n",
    "                    bezBezKey=list(hidaDict[bezKey]['Beziehung'].keys())[0]\n",
    "                    bezBezDenkmarArt=hidaDict[bezBezKey]['Denkmalart']\n",
    "                    print('i: ',i,' key: ',key,' bezKey: ',bezKey, ' wobei ',denkmalArt,hidaDict[key]['Beziehung'][bezKey], bezDenkmalArt,denkmalArt,denkmalArt,'bezBezKey: ',bezBezKey,'bezBezDenkmarArt: ',bezBezDenkmarArt)"
   ]
  },
  {
   "cell_type": "code",
   "execution_count": 15,
   "metadata": {},
   "outputs": [
    {
     "name": "stdout",
     "output_type": "stream",
     "text": [
      "i=:  1 key:  09090204 bezKey:  {'09090205': 'siehe auch Gesamtanlage'}\n",
      "i=:  2 key:  09085334 bezKey:  {'09046059': 'siehe auch Gartendenkmal', '09085055': 'siehe auch Gartendenkmal', '09085369,T': 'siehe auch Gesamtanlage'}\n",
      "i=:  3 key:  09085334 bezKey:  {'09046059': 'siehe auch Gartendenkmal', '09085055': 'siehe auch Gartendenkmal', '09085369,T': 'siehe auch Gesamtanlage'}\n",
      "i=:  4 key:  09085334 bezKey:  {'09046059': 'siehe auch Gartendenkmal', '09085055': 'siehe auch Gartendenkmal', '09085369,T': 'siehe auch Gesamtanlage'}\n",
      "i=:  5 key:  09020790 bezKey:  {'09046359,T': 'siehe auch Gartendenkmal'}\n"
     ]
    }
   ],
   "source": [
    "# finde, ob ein Ensemble auf andere mit siehe oder Teil von verweist\n",
    "objNrKeys=list(hidaDict.keys())\n",
    "i=0\n",
    "for n in range(0,len(objNrKeys)):\n",
    "    key=objNrKeys[n]\n",
    "    if 'Beziehung' in hidaDict[key].keys():\n",
    "        for bezKey in hidaDict[key]['Beziehung'].keys():\n",
    "            if (\"siehe\" or \"Teil\") in hidaDict[key]['Beziehung'][bezKey] and 'Denkmalart' in hidaDict[key].keys() and hidaDict[key]['Denkmalart']=='Ensemble':\n",
    "                i+=1\n",
    "                print('i=: ', i ,'key: ', key,'bezKey: ', hidaDict[key]['Beziehung'])"
   ]
  },
  {
   "cell_type": "code",
   "execution_count": 16,
   "metadata": {},
   "outputs": [],
   "source": [
    "#überprüfe mit den seprarierten bez-Keys, ob fehlende ObjNr vorhanden sind. Danach werden diese aus den Eckdaten manuell entfernt\n",
    "objNrKeys=list(hidaDict.keys())\n",
    "i=0\n",
    "for n in range(0,len(objNrKeys)):\n",
    "    key=objNrKeys[n]\n",
    "    bezObj={}\n",
    "    if 'Bez-OBJ-Nr' in hidaDict[key].keys():\n",
    "        bezKeys=hidaDict[key]['Bez-OBJ-Nr']\n",
    "        bezValue=hidaDict[key]['Beziehung']\n",
    "        for i in range(len(bezKeys)):\n",
    "            if '&' in bezKeys[i]:\n",
    "                find = re.findall(r'\\d{8}', bezKeys[i])\n",
    "                for elBezKey in find:\n",
    "                    bezObj[elBezKey]=bezValue[i]\n",
    "            else:bezObj[bezKeys[i]]=bezValue[i]\n",
    "        for bezKey in bezObj.keys():\n",
    "            if bezKey+' ' not in hidaDict.keys() and bezKey+',T ' not in hidaDict.keys():\n",
    "                i+=1\n",
    "                print('i=: ', i ,'key: ', key, 'bezKey: ',bezKey)\n",
    "                print('bezKey: ', hidaDict[key]['Beziehung'], hidaDict[key]['Bez-OBJ-Nr'])"
   ]
  },
  {
   "cell_type": "code",
   "execution_count": 17,
   "metadata": {},
   "outputs": [],
   "source": [
    "adresse=[]\n",
    "keyAdresse=[]\n",
    "bezKeyAdresse=[]\n",
    "objNrKeys=list(hidaDict.keys())\n",
    "for n in range(0,len(objNrKeys)):\n",
    "    key=objNrKeys[n]\n",
    "    #09097763 Berliner Mauer zieht sich über mehrere Bezirke und hat besitzt keinen bestimmten Ortteil\n",
    "    #alle Objr die referenziert sind, existieren nun auch wieder\n",
    "    #alle ensembleteile sind ein Teil eines Ensembles. 09020538  bezKey:  09046327, 09035427  bezKey:  09020495, 09075583  bezKey:  09045986 sind zusätzlich auf einem Gartendenkmal bzw. Baudenkmal verwiesen (\"siehe\")\n",
    "    #alle Objekte (außer \"T,0...\"\") enthalte den Eintrag Bezirk\n",
    "    #ensemble ist kein Teil von etwas anderem aber es gibt siehe Verweise bei folgenden Ensembles: 09090204,09085334,09020790\n",
    "    #ensemble steht nicht in direkter Beziehung (grad 1) zu einem anderen Ensemble\n",
    "    #alle Objekte haben den Eintrag Denkmalart, bis auf die Teilobjekte 9075895,T001 etc. Dieser erhalten ihre Denkmalart vom Hauptobjekt 9075895,T\n",
    "    #ist Bez-OBJ und Beziehung im Objekt und ist Objekt kein Ensemble, taucht im Listentext (Beziehung + Adresse von Bez-OBJ auf). Ist Objekt aber ein Ensemble dann taucht eine Zeile mit Beziehung: Adresse von Bez-OBJ\n",
    "    if 'PLZ' in hidaDictPLZ[key]:\n",
    "        hidaDict[key]['PLZ']=hidaDictPLZ[key]['PLZ']\n",
    "    if ('Beziehung' in hidaDict[key].keys()):\n",
    "        if 'T' in key:#the TeilObjNr 09096451,T,001 09096451,T00... do not contain the Key Denkmalart. However, instead the mainObj does contain is, i.e.  09096451,T\n",
    "            DenkmalArt=hidaDict[key[:10]]['Denkmalart']\n",
    "        else:\n",
    "            denkmalArt=hidaDict[key]['Denkmalart']\n",
    "        for bezKey in hidaDict[key]['Beziehung'].keys():# there are multiple bezKey, bez= Beziehung\n",
    "            bezDenkmalArt=hidaDict[bezKey]['Denkmalart']\n",
    "            bezArt = hidaDict[key]['Beziehung'][bezKey]\n",
    "            if 'Teil' in bezArt:\n",
    "                #Haupt-Main\n",
    "                hidaDict[bezKey].setdefault('Status',{})['Haupt']=True\n",
    "                if denkmalArt== 'Ensembleteil' and bezDenkmalArt== 'Ensemble':\n",
    "                    hidaDict[bezKey].setdefault('Ensemble-Teil',[]).append(key)\n",
    "                hidaDict[bezKey].setdefault('Teil-Beziehung',{})[key]=denkmalArt\n",
    "                hidaDict[bezKey].setdefault('LinkGrad1ObjNr',[]).append(key)\n",
    "                #Teil-Sub\n",
    "                hidaDict[key].setdefault('Status',{})['Teil']=True\n",
    "                hidaDict[key].setdefault('HauptObjNr',{})[bezKey]=bezDenkmalArt\n",
    "                hidaDict[key].setdefault('LinkGrad1ObjNr',[]).append(bezKey)\n",
    "            elif 'siehe' in bezArt:\n",
    "                hidaDict[bezKey].setdefault('Status',{})['Siehe']=True#gilt nur wenn Siehe Beziehungen, symmetrische Beziehungen sind\n",
    "                hidaDict[bezKey].setdefault('Siehe-Beziehung',{})[key]=denkmalArt#gilt nur wenn Siehe Beziehungen, symmetrische Beziehungen sind\n",
    "                hidaDict[bezKey].setdefault('LinkGrad1ObjNr',[]).append(key)\n",
    "                hidaDict[key].setdefault('Status',{})['Siehe']=True#gilt nur wenn Siehe Beziehungen, symmetrische Beziehungen sind\n",
    "                hidaDict[key].setdefault('Siehe-Beziehung',{})[bezKey]=bezDenkmalArt#gilt nur wenn Siehe Beziehungen, symmetrische Beziehungen sind\n",
    "                hidaDict[key].setdefault('LinkGrad1ObjNr',[]).append(bezKey)\n",
    "            else:\n",
    "                print(key,bezKey)\n",
    "                print('Weder Teil noch siehe in Beziehung enthalten')\n",
    "            if ('Beziehung' in hidaDict[bezKey].keys()):\n",
    "                for bezBezKey in hidaDict[bezKey]['Beziehung'].keys():#Beziehunge 2.Grades, there are multiple bezKey, bez= Beziehung\n",
    "                    if bezBezKey != key and bezBezKey not in hidaDict[key]['LinkGrad1ObjNr']:\n",
    "                        hidaDict[key].setdefault('LinkGrad2ObjNr',[]).append(bezBezKey)\n",
    "                        hidaDict[bezBezKey].setdefault('LinkGrad2ObjNr',[]).append(key)\n",
    "                    \n",
    "for n in range(0,len(objNrKeys)):\n",
    "    key=objNrKeys[n]\n",
    "    if 'LinkGrad1ObjNr' in hidaDict[key].keys():\n",
    "        hidaDict[key]['LinkGrad1ObjNr']=list(set(hidaDict[key]['LinkGrad1ObjNr']))\n",
    "    if 'LinkGrad2ObjNr' in hidaDict[key].keys():\n",
    "        hidaDict[key]['LinkGrad2ObjNr']=list(set(hidaDict[key]['LinkGrad2ObjNr']))\n",
    "#todo:Dann auch die die keine Beziehung haben anschauen. Aber erst nach Beziehung identifikation aus Listentext?"
   ]
  },
  {
   "cell_type": "code",
   "execution_count": 18,
   "metadata": {},
   "outputs": [
    {
     "name": "stdout",
     "output_type": "stream",
     "text": [
      "09085037\n",
      "09046414\n",
      "09040273,T\n",
      "09040272,T\n",
      "09040271,T\n",
      "09040270,T\n",
      "09011333\n"
     ]
    }
   ],
   "source": [
    "objNrKeys=list(hidaDict.keys())\n",
    "for n in range(0,len(objNrKeys)):\n",
    "    key=objNrKeys[n]\n",
    "    if ('LinkGrad2ObjNr' in hidaDict[key].keys() and 'Teil-Beziehung'in hidaDict[key].keys() and 'Siehe-Beziehung'in hidaDict[key].keys()):\n",
    "        print(key)"
   ]
  },
  {
   "cell_type": "code",
   "execution_count": 19,
   "metadata": {},
   "outputs": [
    {
     "name": "stdout",
     "output_type": "stream",
     "text": [
      "['Beziehung', 'Straße', 'Hausnummer', 'Adresse']  has been deleted\n",
      "successfully saved\n"
     ]
    }
   ],
   "source": [
    "delKey=['Beziehung','Straße','Hausnummer','Adresse']\n",
    "for n in range(0,len(objNrKeys)):\n",
    "    key=objNrKeys[n]\n",
    "    for el in delKey:\n",
    "        if el in hidaDict[key].keys():\n",
    "            del hidaDict[key][el]\n",
    "print(delKey,' has been deleted')\n",
    "#save HidaDict as json file\n",
    "with open('hida\\ExtendedHidaDict.json', 'w') as fp:\n",
    "    json.dump(hidaDict, fp,  indent=4,ensure_ascii=False)\n",
    "print('successfully saved')"
   ]
  },
  {
   "cell_type": "code",
   "execution_count": 20,
   "metadata": {},
   "outputs": [
    {
     "name": "stdout",
     "output_type": "stream",
     "text": [
      "0 []\n"
     ]
    }
   ],
   "source": [
    "#Schau, ob es Dublikate bzgl der Adressen existieren\n",
    "#Ohne Höhrere Beziehungsgrade existieren 740 Dublikate\n",
    "#ohne Ortsteil existieren 37 Adressen, die als Dublikate erscheinen:\n",
    "#['Berliner Straße 24', 'Berliner Straße 25', 'Dorfstraße 10', 'Dorfstraße 12', 'Dorfstraße 13', 'Dorfstraße 17', 'Dorfstraße 18', 'Dorfstraße 19', 'Dorfstraße 2', 'Dorfstraße 21', 'Dorfstraße 23', 'Dorfstraße 28', 'Dorfstraße 3', 'Dorfstraße 30', 'Dorfstraße 31', 'Dorfstraße 32', 'Dorfstraße 7', 'Dorfstraße 8', 'Dorfstraße 9', 'Gartenstraße 1', 'Grünstraße 25', 'Hanseatenweg 10', 'Hauptstraße 12', 'Hauptstraße 13', 'Hauptstraße 15', 'Hauptstraße 17', 'Hauptstraße 23', 'Hauptstraße 26', 'Hauptstraße 28', 'Hauptstraße 29', 'Hauptstraße 30', 'Hauptstraße 41', 'Hauptstraße 42', 'Hauptstraße 45', 'Hauptstraße 53', 'Hauptstraße 55', 'Hauptstraße 58']\n",
    "#ohne Bezirk und Ortsteil existieren 118 Adressen, die als Dublikate erscheinen:\n",
    "#['Albrechtstraße 12', 'Albrechtstraße 13', 'Albrechtstraße 5', 'Albrechtstraße 7', 'Albrechtstraße 8', 'Auguststraße 1', 'Auguststraße 18', 'Auguststraße 19', 'Auguststraße 2', 'Auguststraße 8', 'Bahnhofstraße 30', 'Bahnhofstraße 31', 'Berliner Straße 24', 'Berliner Straße 25', 'Berliner Straße 26', 'Breite Straße 35', 'Breite Straße 43', 'Breite Straße 44', 'Breite Straße 45', 'Breite Straße 46', 'Dorfstraße 1', 'Dorfstraße 10', 'Dorfstraße 10A', 'Dorfstraße 11', 'Dorfstraße 12', 'Dorfstraße 13', 'Dorfstraße 14', 'Dorfstraße 17', 'Dorfstraße 18', 'Dorfstraße 19', 'Dorfstraße 2', 'Dorfstraße 20', 'Dorfstraße 21', 'Dorfstraße 23', 'Dorfstraße 27', 'Dorfstraße 28', 'Dorfstraße 29', 'Dorfstraße 3', 'Dorfstraße 30', 'Dorfstraße 31', 'Dorfstraße 32', 'Dorfstraße 33', 'Dorfstraße 34', 'Dorfstraße 35', 'Dorfstraße 36', 'Dorfstraße 37', 'Dorfstraße 38', 'Dorfstraße 39', 'Dorfstraße 4', 'Dorfstraße 40', 'Dorfstraße 41', 'Dorfstraße 5', 'Dorfstraße 6', 'Dorfstraße 7', 'Dorfstraße 8', 'Dorfstraße 9', 'Dorfstraße 9A', 'Gartenstraße 1', 'Gartenstraße 12', 'Gartenstraße 27', 'Gartenstraße 28', 'Grünstraße 25', 'Hanseatenweg 10', 'Hauptstraße 11', 'Hauptstraße 12', 'Hauptstraße 125', 'Hauptstraße 126', 'Hauptstraße 13', 'Hauptstraße 15', 'Hauptstraße 17', 'Hauptstraße 23', 'Hauptstraße 26', 'Hauptstraße 28', 'Hauptstraße 29', 'Hauptstraße 30', 'Hauptstraße 33', 'Hauptstraße 35', 'Hauptstraße 36', 'Hauptstraße 40', 'Hauptstraße 41', 'Hauptstraße 42', 'Hauptstraße 43', 'Hauptstraße 44', 'Hauptstraße 45', 'Hauptstraße 46', 'Hauptstraße 47', 'Hauptstraße 48', 'Hauptstraße 53', 'Hauptstraße 55', 'Hauptstraße 58', 'Hauptstraße 6', 'Inselstraße 5', 'Jägerstraße 1', 'Jägerstraße 2', 'Jägerstraße 3', 'Jägerstraße 4', 'Jägerstraße 5', 'Jägerstraße 9', 'Kastanienallee 26', 'Kirchstraße 1', 'Kirchstraße 2', 'Krumme Straße 4', 'Krumme Straße 6', 'Margaretenstraße 5', 'Mommsenstraße 5', 'Parkstraße 5', 'Rosenstraße 1', 'Rosenstraße 17', 'Scharnweberstraße 33', 'Scharnweberstraße 37', 'Scharnweberstraße 44', 'Scharnweberstraße 45', 'Scharnweberstraße 46', 'Scharnweberstraße 47', 'Scharnweberstraße 48', 'Scharnweberstraße 49', 'Sophienstraße 2', 'Sophienstraße 8']\n",
    "#es reicht, wenn für die obigen Adressen auch nach Ortsteil gesucht wird, dann ist es auch eindeutig.\n",
    "adressenBezirkOrtsteil={}\n",
    "adressen=[]\n",
    "dublAdressen=[]\n",
    "keyAdresse=[]\n",
    "bezKeyAdresse=[]\n",
    "objAdr={}\n",
    "objNrKeys=list(hidaDict.keys())\n",
    "i=0\n",
    "for n in range(0,len(objNrKeys)):\n",
    "    key=objNrKeys[n]\n",
    "    adresse=[]\n",
    "    if 'Beziehung' in hidaDict[key].keys() and 'AdresseDict' in hidaDict[key].keys():\n",
    "        key=objNrKeys[n]\n",
    "        keyReduced=objNrKeys[n][:10]# da ',T,00...' keine Adresse oder Bezirk enthalten\n",
    "        bezirk=hidaDict[keyReduced]['Bezirk']\n",
    "        ortsteil=hidaDict[keyReduced]['Ortsteil']\n",
    "        bezirkOrtsteil=bezirk+'-'+ortsteil\n",
    "        bezList=list(set(list(hidaDict[key]['LinkGrad1ObjNr'])))\n",
    "        for strasse in hidaDict[key]['AdresseDict'].keys():\n",
    "            for hnr in hidaDict[key]['AdresseDict'][strasse]:\n",
    "                elAdr=strasse+' '+hnr\n",
    "                adrBezirkOrtsteil=elAdr+'-'+bezirk+'-'+ortsteil\n",
    "                search=elAdr+' '+bezirk+' '+ortsteil\n",
    "                adressenBezirkOrtsteil.setdefault(bezirkOrtsteil,[])\n",
    "                #if (elAdr not in adressenBezirkOrtsteil[bezirkOrtsteil]):\n",
    "                if (adrBezirkOrtsteil not in adressen):\n",
    "                    adressenBezirkOrtsteil[bezirkOrtsteil].append(elAdr)\n",
    "                    adressen.append(adrBezirkOrtsteil)\n",
    "                    keyAdresse.append(key)\n",
    "                else:\n",
    "                    prevKey=keyAdresse[adressen.index(adrBezirkOrtsteil)]\n",
    "                    bezBezKeyList=[]\n",
    "                    bezBezKeyList.extend(bezList)\n",
    "                    for elBezList in bezList:\n",
    "                        bezBezKey=list(hidaDict[elBezList]['LinkGrad1ObjNr'])\n",
    "                        bezBezKeyList.extend(bezBezKey)\n",
    "                        #for elBezBezList in bezBezKey:\n",
    "                        #    bezBezBezKey=list(hidaDict[elBezBezList]['LinkObjNr'])\n",
    "                        #    bezbezKeyList.extend(bezBezBezKey)\n",
    "                    bezbezKeyList=list(set(bezBezKeyList))\n",
    "                    if not (prevKey in bezBezKeyList):\n",
    "                        dublAdressen.append(search)\n",
    "                        #print('i: ',i,'objNr: ',key,'bezList ',bezList,'bezbezKeyList: ',bezbezKeyList,'prevKey: ', prevKey,'elAdr: ', elAdr,'\\n', 'bezirkOrtsteil: ', bezirkOrtsteil,)\n",
    "                        i+=1\n",
    "dublAdressen=sorted(list(set(dublAdressen)))\n",
    "print(len(dublAdressen), dublAdressen)\n",
    "#schauen bis zu welchem Grad Adressen weitergegeben werden"
   ]
  },
  {
   "cell_type": "code",
   "execution_count": null,
   "metadata": {},
   "outputs": [],
   "source": []
  },
  {
   "cell_type": "code",
   "execution_count": null,
   "metadata": {},
   "outputs": [],
   "source": []
  },
  {
   "cell_type": "code",
   "execution_count": null,
   "metadata": {},
   "outputs": [],
   "source": []
  }
 ],
 "metadata": {
  "kernelspec": {
   "display_name": "Python 3",
   "language": "python",
   "name": "python3"
  },
  "language_info": {
   "codemirror_mode": {
    "name": "ipython",
    "version": 3
   },
   "file_extension": ".py",
   "mimetype": "text/x-python",
   "name": "python",
   "nbconvert_exporter": "python",
   "pygments_lexer": "ipython3",
   "version": "3.8.5"
  }
 },
 "nbformat": 4,
 "nbformat_minor": 4
}
