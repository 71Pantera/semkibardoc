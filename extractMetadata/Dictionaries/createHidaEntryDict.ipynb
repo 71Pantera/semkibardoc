{
 "cells": [
  {
   "cell_type": "code",
   "execution_count": 1,
   "metadata": {},
   "outputs": [],
   "source": [
    "import json"
   ]
  },
  {
   "cell_type": "code",
   "execution_count": 2,
   "metadata": {},
   "outputs": [
    {
     "name": "stdout",
     "output_type": "stream",
     "text": [
      "{'9980': 'Sonstige-Erfassung', '9982': 'Sonstige-Erfassung-Ausführung', '9984': 'Sonstige-Ausführung', '8330': 'Referenz', '8334': 'Referenz-Seiten', '5125': 'Ortsbeschreibung', 'blk': 'Objekt-Typ', '5000': 'OBJ-Dok-Nr', '5001': 'Teil-Obj-Dok-Nr', '5002': 'Teil-Obj-Dok-Nr', '5007': 'Beziehung', '5008': 'Bez-OBJ-Nr', '5060': 'Datierung', '5064': 'Num-Dat', '5104': 'Bezirk', '5105': 'Sttl-Schlüssel', '5110': 'Ortsteil', '5116': 'Straße', '5117': 'Hausnummer', '5118': 'Gemarkung', '5120': 'Flurstück', '5202': 'Denkmalname', '5230': 'Sachbegriff', '5231': 'Akt-Nutzung', 'ob30': 'Künstler-Rolle', '3100': 'Künstler-Name', '3475': 'Künstler-Funktion', '3480': 'Künstler-Rang', '3496': 'Künstler-Gel-Dauer', '3498': 'Künstler-Kue-Komm', 'ob45': 'Sozietät-Art-Rolle', '4600': 'Sozietät-Name', '4975': 'Sozietät-ber-Funktion', '4980': 'Sozietät-ber-Rang', '4996': 'Sozietät-Gelt-Dauer', '4998': 'Sozietät-Soz-Komm', 'ob40': 'Person-Art-Rolle', '4100': 'Person-Name', '4475': 'Person-Funktion', '4480': 'Person-ber-Rang', '4496': 'Person-Gelt-Dauer', '4498': 'Person-Per-Komm', '8137': 'Digital-Quelle', '8130': 'Digital-Quelle-Textart', '8134': 'Digital-Quelle-Stelle', '8136': 'Digital-Quelle-Kommentart', '8540': 'Bildaten', '8543': 'Bildaten-Quelle', '9433': 'Lageplan', '9440': 'Ausw-Stelle', '9442': 'Eintr-Datum', '9452': 'DSchG', '9456': 'Denkmalart', '9463': 'Listentext', '9464': 'K-Begründung', '9480': 'Text-Textart', '9482': 'Text-Datum', '9484': 'Text-Autor', '9486': 'Text-Dokument', '9487': 'Text-Pdf-Dokument', '9488': 'Text-Kommentar', '9904': 'Urh-Autor', '9900': 'Erfassungsdatum', '9983': 'Topographietext', '948c': 'Fortschreibungsbogen', 'singleValue': ['Objekt-Typ', 'OBJ-Dok-Nr', 'Bezirk', 'Sttl-Schlüssel', 'Ortsteil', 'Denkmalart', 'Denkmalname', 'Sachbegriff', 'Listentext', 'K-Begründung']}\n"
     ]
    }
   ],
   "source": [
    "#todo: 9980,9982,9984,8330,8334,5125 wirkliche Bedeutung\n",
    "#8543 is missing\n",
    "entryHida={'9980':'Sonstige-Erfassung','9982':'Sonstige-Erfassung-Ausführung','9984':'Sonstige-Ausführung','8330':'Referenz','8334':'Referenz-Seiten','5125':'Ortsbeschreibung','blk':'Objekt-Typ','5000':'OBJ-Dok-Nr','5001':'Teil-Obj-Dok-Nr','5002':'Teil-Obj-Dok-Nr', '5007':'Beziehung','5008':'Bez-OBJ-Nr', '5060':'Datierung','5064':'Num-Dat','5104':'Bezirk','5105':'Sttl-Schlüssel', '5110':'Ortsteil','5116':'Straße','5117':'Hausnummer','5118':'Gemarkung','5120':'Flurstück','5202':'Denkmalname','5230':'Sachbegriff','5231':'Akt-Nutzung','ob30':'Künstler-Rolle','3100':'Künstler-Name','3475':'Künstler-Funktion','3480':'Künstler-Rang','3496':'Künstler-Gel-Dauer','3498':'Künstler-Kue-Komm','ob45':'Sozietät-Art-Rolle','4600':'Sozietät-Name','4975':'Sozietät-ber-Funktion','4980':'Sozietät-ber-Rang','4996':'Sozietät-Gelt-Dauer','4998':'Sozietät-Soz-Komm','ob40':'Person-Art-Rolle','4100':'Person-Name','4475':'Person-Funktion','4480':'Person-ber-Rang','4496':'Person-Gelt-Dauer','4498':'Person-Per-Komm','8137':'Digital-Quelle','8130':'Digital-Quelle-Textart','8134':'Digital-Quelle-Stelle','8136':'Digital-Quelle-Kommentar','8540':'Bildaten','8543':'Bildaten-Quelle','9433':'Lageplan','9440':'Ausw-Stelle','9442':'Eintr-Datum','9452':'DSchG','9456':'Denkmalart','9463':'Listentext','9464':'K-Begründung','9480': 'Text-Textart','9482':'Text-Datum','9484':'Text-Autor','9486':'Text-Dokument','9487':'Text-Pdf-Dokument','9488':'Text-Kommentar','9904':'Urh-Autor','9900':'Erfassungsdatum','9983':'Topographietext','948c':'Fortschreibungsbogen'}\n",
    "singleValue=[\"Objekt-Typ\",\"OBJ-Dok-Nr\",\"Bezirk\",\"Sttl-Schlüssel\",\"Ortsteil\",\"Denkmalart\",\"Denkmalname\",\"Sachbegriff\",\"Listentext\",\"K-Begründung\"]\n",
    "entryHida['singleValue']=singleValue\n",
    "print(entryHida)"
   ]
  },
  {
   "cell_type": "code",
   "execution_count": 3,
   "metadata": {},
   "outputs": [
    {
     "name": "stdout",
     "output_type": "stream",
     "text": [
      "successfully saved\n"
     ]
    }
   ],
   "source": [
    "with open('hida\\entryKeysHida.json', 'w') as fp:\n",
    "    json.dump(entryHida, fp,  indent=4,ensure_ascii=False)\n",
    "print('successfully saved')"
   ]
  },
  {
   "cell_type": "code",
   "execution_count": null,
   "metadata": {},
   "outputs": [],
   "source": []
  },
  {
   "cell_type": "code",
   "execution_count": null,
   "metadata": {},
   "outputs": [],
   "source": []
  }
 ],
 "metadata": {
  "kernelspec": {
   "display_name": "Python 3",
   "language": "python",
   "name": "python3"
  },
  "language_info": {
   "codemirror_mode": {
    "name": "ipython",
    "version": 3
   },
   "file_extension": ".py",
   "mimetype": "text/x-python",
   "name": "python",
   "nbconvert_exporter": "python",
   "pygments_lexer": "ipython3",
   "version": "3.8.5"
  }
 },
 "nbformat": 4,
 "nbformat_minor": 4
}
