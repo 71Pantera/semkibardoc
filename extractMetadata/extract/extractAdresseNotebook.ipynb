{
 "cells": [
  {
   "cell_type": "code",
   "execution_count": null,
   "metadata": {},
   "outputs": [],
   "source": [
    "import re\n",
    "import numpy as np"
   ]
  },
  {
   "cell_type": "code",
   "execution_count": null,
   "metadata": {},
   "outputs": [],
   "source": [
    "adr='Hanshauedgrwwrtbfs 76a  -       76e, 77,65A 8/9 453 56'"
   ]
  },
  {
   "cell_type": "code",
   "execution_count": null,
   "metadata": {},
   "outputs": [],
   "source": [
    "hausNummerList=re.findall('\\d+[A-za-z]?[\\s]*[^a-zA-Z0-9,/]{0,3}[\\s]*[\\d]+\\d[A-za-z]?|\\d+',adr)\n",
    "indexRemoveHausNummer=adr.find(hausNummerList[0])\n",
    "strassenName=adr[:indexRemoveHausNummer]\n",
    "strassenName=' '.join(strassenName.split())\n",
    "print(hausNummerList)\n",
    "# if multiple matches# mostly one match\n",
    "for i in range(len(hausNummerList)):\n",
    "    hausNummerList[i]=hausNummerList[i].lower()\n",
    "    if '-' in hausNummerList[i]:\n",
    "        hausNummerList[i]=hausNummerList[i].replace('---','-').replace('- -','-').replace('--','-').replace('+',',').replace(' ','')\n",
    "    hausNummerList[i]=' '.join(hausNummerList[i].split())\n",
    "    hausNummerList[i]=hausNummerList[i].replace(' ',',')\n",
    "    if ',' in hausNummerList[i]:\n",
    "        hausNummerList.extend(hausNummerList[i].split(','))\n",
    "        hausNummerList.remove(hausNummerList[i])\n",
    "##########################\n",
    "print(strassenName,'  ', hausNummerList)"
   ]
  },
  {
   "cell_type": "code",
   "execution_count": null,
   "metadata": {},
   "outputs": [],
   "source": [
    "adressen = {}\n",
    "hausNummerList2=[]\n",
    "for hausNummer in hausNummerList:\n",
    "    if re.search(r'[-]\\d{1,3}', hausNummer) and re.search(r'[a-z]', hausNummer):\n",
    "        abc=list('abcdefghijklmnopqrstuvwxyz')\n",
    "        findDigit=re.findall('\\d+',hausNummer)\n",
    "        findLetter=re.findall('[a-z]',hausNummer)\n",
    "        if len(list(set(findDigit)))==1 and len(list(set(findLetter)))==2:\n",
    "            index1=abc.index(findLetter[0])\n",
    "            index2=abc.index(findLetter[1])+1\n",
    "            hausNummer2=[findDigit[0]+abc[i] for i in range(index1,index2)]\n",
    "        else:\n",
    "            findDigitLetter=re.findall('\\d+[a-z]',hausNummer) \n",
    "            for remElement in findDigitLetter:\n",
    "                hausNummer=hausNummer.replace(remElement,'')\n",
    "            findOnlyDigit=re.findall('\\d+[^a-z^-]',hausNummer)\n",
    "            hausNummer2=list(set(findDigitLetter))\n",
    "            hausNummer2.extend(findOnlyDigit)\n",
    "        hausNummerList2.extend(hausNummer2)\n",
    "    elif re.search(r'-\\d{1,3}$', hausNummer):\n",
    "        # Adresse beinhaltet mehrere Hausnummer: deshalb range aufsplitten und auflisten\n",
    "        hausNummerRange = hausNummer.rsplit(' ', 1)[-1].rsplit('-', 1)\n",
    "        if int(hausNummerRange[1])-int(hausNummerRange[0]) > 0:\n",
    "            nr_range = np.arange(int(hausNummerRange[0]),int(hausNummerRange[1])+1) \n",
    "            hausNummer2 = [item for item in nr_range.astype(str)]\n",
    "            hausNummerList2.extend(hausNummer2)\n",
    "            hausNummerList2.remove(hausNummer)\n",
    "            print(hausNummerList2)\n",
    "    elif '-' in hausNummer:\n",
    "        indStrich = hausNummer.find('-')\n",
    "        hausNummerRange = [hausNummer[:indStrich], re.findall(r'\\d+', hausNummer[indStrich+1:])[0]]\n",
    "        if int(hausNummerRange[1])-int(hausNummerRange[0]) > 0:\n",
    "            nr_range = np.arange(int(hausNummerRange[0]),int(hausNummerRange[1])+1) \n",
    "            hausNummer2 = [item for item in nr_range.astype(str)]\n",
    "            hausNummerList2.extend(hausNummer2)\n",
    "    else:\n",
    "        hausNummerList2.append(hausNummer)\n",
    "print(hausNummerList2)\n",
    "#hausNummerList2 = [hausNummer] if isinstance(hausNummer, str) else hausNummer\n",
    "hausNummerStr = ''.join(hausNummerList2)\n",
    "if (strassenName in adressen) and (hausNummerStr in adressen[strassenName]):\n",
    "    adressen[strassenName][hausNummerStr]['hausnummer'].extend(hausNummerList2)\n",
    "else:\n",
    "    adressen[strassenName] = {hausNummerStr : {'hausnummer': hausNummerList2}}\n",
    "print(adressen)"
   ]
  },
  {
   "cell_type": "code",
   "execution_count": null,
   "metadata": {},
   "outputs": [],
   "source": [
    "print(hausNummerStr)\n",
    "print(hausNummerList2)"
   ]
  },
  {
   "cell_type": "code",
   "execution_count": null,
   "metadata": {},
   "outputs": [],
   "source": []
  },
  {
   "cell_type": "code",
   "execution_count": null,
   "metadata": {},
   "outputs": [],
   "source": [
    "import docx"
   ]
  },
  {
   "cell_type": "code",
   "execution_count": null,
   "metadata": {},
   "outputs": [],
   "source": [
    "doc = docx.Document(r\"C:\\Users\\schull\\Projekte\\KIbarDok\\testOrdner\\Akazienhof 15\\299-13,Akazienhof 15_Abriss Schuppenanbau\\Bescheid_Abriss Schuppenanbau.docx\")\n",
    "fullText = []\n",
    "for para in doc.paragraphs:\n",
    "    fullText.append(para.text)\n",
    "content = '\\n'.join(fullText)"
   ]
  },
  {
   "cell_type": "code",
   "execution_count": null,
   "metadata": {},
   "outputs": [],
   "source": [
    "content"
   ]
  },
  {
   "cell_type": "code",
   "execution_count": null,
   "metadata": {},
   "outputs": [],
   "source": [
    "doc.paragraphs[0].text"
   ]
  },
  {
   "cell_type": "code",
   "execution_count": 26,
   "metadata": {},
   "outputs": [
    {
     "data": {
      "text/plain": [
       "'\\n\\nPrüfverfahren\\n\\n\\n\\n\\n\\n\\n\\n\\n\\n\\n\\n\\n\\n\\n\\n\\n\\n\\n\\n\\n\\n'"
      ]
     },
     "execution_count": 26,
     "metadata": {},
     "output_type": "execute_result"
    }
   ],
   "source": [
    "import extractText as extractText\n",
    "extractText.getInhalt(r\"C:\\Users\\schull\\Projekte\\KIbarDok\\testOrdner\\Akazienhof 15\\299-13,Akazienhof 15_Abriss Schuppenanbau\", \"299-13,Akazienhof 15_Abriss Schuppenanbau.doc\", 'docx')"
   ]
  },
  {
   "cell_type": "code",
   "execution_count": 10,
   "metadata": {},
   "outputs": [],
   "source": [
    "a = docxPfad(r\"C:\\Users\\schull\\Projekte\\KIbarDok\\testOrdner\\Akazienhof 15\\299-13,Akazienhof 15_Abriss Schuppenanbau\", \"Bescheid_Abriss Schuppenanbau.doc\")"
   ]
  },
  {
   "cell_type": "code",
   "execution_count": null,
   "metadata": {},
   "outputs": [],
   "source": [
    "import extractText as extractText"
   ]
  },
  {
   "cell_type": "code",
   "execution_count": 9,
   "metadata": {},
   "outputs": [],
   "source": [
    "import os\n",
    "from win32com import client as wc\n",
    "\n",
    "def docxPfad(pfad, datei):\n",
    "    docxPfad=pfad+'\\docx\\\\'+datei+'x'\n",
    "    currentPfad=pfad+'\\\\'+datei\n",
    "    if datei.endswith('.doc'):\n",
    "        if not os.path.exists(pfad+'\\docx'):\n",
    "            os.makedirs(pfad+'\\docx')\n",
    "        elif not os.path.exists(docxPfad):\n",
    "            try:\n",
    "                w = wc.Dispatch('Word.Application')\n",
    "                doc=w.Documents.Open(currentPfad)\n",
    "                doc.SaveAs(docxPfad,16)# Must have parameter 16, otherwise an error will occur.\n",
    "                doc.Close()\n",
    "                return docxPfad\n",
    "            except:\n",
    "                return ''\n",
    "        elif os.path.exists(docxPfad):\n",
    "            return docxPfad\n",
    "        else:\n",
    "            return ''\n",
    "    elif datei.endswith('.docx'):\n",
    "        return currentPfad\n",
    "    else:\n",
    "        return ''"
   ]
  },
  {
   "cell_type": "code",
   "execution_count": 7,
   "metadata": {},
   "outputs": [
    {
     "data": {
      "text/plain": [
       "''"
      ]
     },
     "execution_count": 7,
     "metadata": {},
     "output_type": "execute_result"
    }
   ],
   "source": [
    "a"
   ]
  },
  {
   "cell_type": "code",
   "execution_count": 15,
   "metadata": {},
   "outputs": [],
   "source": [
    "docxPfad=r\"C:\\Users\\schull\\Projekte\\KIbarDok\\testOrdner\\Akazienhof 15\\299-13,Akazienhof 15_Abriss Schuppenanbau\\Bescheid_Abriss Schuppenanbau.docx\"\n",
    "w = wc.Dispatch('Word.Application')\n",
    "doc=w.Documents.Open(r\"C:\\Users\\schull\\Projekte\\KIbarDok\\testOrdner\\Akazienhof 15\\299-13,Akazienhof 15_Abriss Schuppenanbau\\Bescheid_Abriss Schuppenanbau.doc\")\n",
    "doc.SaveAs(docxPfad,16)# Must have parameter 16, otherwise an error will occur.\n",
    "doc.Close()"
   ]
  },
  {
   "cell_type": "code",
   "execution_count": 21,
   "metadata": {},
   "outputs": [],
   "source": [
    "import docx\n",
    "doc = docx.Document(docxPfad)"
   ]
  },
  {
   "cell_type": "code",
   "execution_count": 22,
   "metadata": {},
   "outputs": [],
   "source": [
    "fullText = []\n",
    "for para in doc.paragraphs:\n",
    "    fullText.append(para.text)\n",
    "content = '\\n'.join(fullText)"
   ]
  },
  {
   "cell_type": "code",
   "execution_count": 23,
   "metadata": {},
   "outputs": [
    {
     "data": {
      "text/plain": [
       "'Bezirksamt Treptow-Köpenick von Berlin\\t\\nAbt. Bauen, Stadtentwicklung und Umwelt\\nStadtentwicklungsamt\\nFachbereich Denkmalschutz\\n\\n\\nBezirksamt Treptow-Köpenick von Berlin, Postfach 910240, 12414 Berlin (Postanschrift)\\n\\n\\n\\n\\n\\n\\n\\n\\n\\n\\n\\n\\n\\n\\nBearbeiter/in\\tTelefon (030)\\tTelefax (030)\\t\\tDatum \\tGeschZ. (bitte stets angeben)\\nHerr Breer\\t90297-2192\\t90297-2195\\t\\t\\t25.06.2013\\t\\tFB UDL-309/13\\t\\t\\n\\n\\nGrundstück: Akazienhof 15 in 12524 Berllin-Altglienicke\\n\\nAntrag v. 11. 06. 2013\\n\\nEingang: 18.06.2013\\n\\nVorhaben: Abriss eines Schuppenanbaus\\n\\nAnlage: \\nFundstellennachweis\\n\\n\\nSehr geehrte Frau Templin,\\n\\nwir erteilen Ihnen hiermit nachfolgenden\\n\\nBescheid\\n\\nNr.: 309/13\\nA\\nDie denkmalschutzrechtliche Genehmigung wird gemäß § 11 Abs. 1 Denkmalschutzgesetz Berlin (DSchG Bln) vom 24.04.1995 (GVBl. S. 274), zuletzt geändert durch Artikel II des Gesetzes vom 8. Juli 2010 (GVBl. S. 396) zum Abriss eines Schuppenanbaus erteilt.\\n\\nGemäß § 11 Abs. 4 DSchG Bln kann die Genehmigung unter nachfolgend aufgeführten Bedingungen bzw. Auflagen sowie unter dem Vorbehalt des Widerrufs oder befristet erteilt werden.\\n\\nAuflagen:\\n\\n- Die Untere Denkmalschutzbehörde stimmt dem Abbruch des Schuppenanbaus, entsprechend Antrag vom 11. 06. 2013, zu. \\n\\n- In allen Phasen der Baudurchführung sind weiterhin Abstimmungen mit der Denkmalschutzbehörde durchzuführen bzw. eine denkmalschutzrechtliche Genehmigung einzuholen, besonders dann, wenn die Baudurchführung von dem vorgelegten eingereichten Antrag abweichen sollte oder die Baumaßnahme nicht Gegenstand des Antrages war (Dieser Sachverhalt ist auch bei Veränderungen des Antrags zu berücksichtigen, die durch Forderungen anderer Behörden und Institutionen erfolgen).\\n\\n- Die Genehmigung ist auf der Baustelle zu hinterlegen, so dass die Bauleitung Kenntnis von den denkmalschutzrechtlichen Auflagen hat und jederzeit geprüft werden kann, ob die Auflagen eingehalten werden.\\n\\n\\nB \\nEin Ausgleich in Geld ist gemäß § 16 Abs. 2 DSchG Bln nicht zu gewähren.\\n\\n\\nBegründung\\n\\nSachverhalt\\n\\n1.\\nSie haben am 11. 06. 2013 einen Antrag auf denkmalrechtliche Genehmigung, Abriss eines Schuppenanbaus, gestellt.\\n\\n\\nRechtliche Gründe\\n\\nGenehmigungsbedürftigkeit\\n\\nDas beantragte Vorhaben, Abriss eines Schuppenanbaus, ist nach DSchG Bln genehmigungsbedürftig.\\n\\nNach § 11 Abs. 1 DSchG Bln darf ein Denkmal nur mit Genehmigung der zuständigen Denkmalbehörde in seinem Erscheinungsbild verändert, ganz oder teilweise beseitigt, von seinem Standort oder Aufbewahrungsort entfernt oder instandgesetzt und wiederhergestellt werden\\n\\nDie von Ihnen beabsichtigte Maßnahme, Abriss eines Schuppenanbaus, ist eine Veränderung des Denkmals im Sinne von § 11 Abs. 1 Nr. 2 DSchG Bln und somit nach dem Denkmalschutzgesetz genehmigungspflichtig.\\n\\n\\nDenkmaleigenschaft\\n\\nGesamtanlage\\nGartenstadtweg 15 - 99,\\nAkazienhof 1 - 26,\\nAm Falkenberg 118 & 120\\n- Gartenstadt Falkenberg -\\n\\nDie Gartenstadt Falkenberg entstand von 1913-1915 auf Initiative der Deutschen Gartenstadtgesellschaft, die eigens zur Errichtung der Siedlung einen genossenschaftlich organisierten Bauträger, die \"Baugenossenschaft Gartenvorstadt Groß-Berlin\" gründete. Angelegt wurde die Siedlung auf dem 1913 durch die Genossenschaft erworbenen hügeligen Terrain des Gutes Falkenberg.\\nDie Gartenstadt war ursprünglich für insgesamt 7000 Bewohner aller Bevölkerungsschichten geplant, für die ca. 1500 Wohnungen errichtet werden sollten. In Abweichung von den Idealen der englischen Gartenstadtbewegung sollte sie nicht als weitgehend autarke Stadtgründung (mit eigenen Produktionsstätten) realisiert werden, sondern vielmehr weitläufige vorstädtische Siedlung mit eher dorftypischer Infrastruktur und klarer Anbindung an die nahe Großstadt sein. Kultur- und Sozialbauten, wie Volksfesthaus und Ledigenheim, sollten daneben als zentrale kommunale Bestandteile das Siedlungsgefüge ergänzen. Tatsächlich gebaut wurden jedoch infolge kriegsbedingter Einstellung der Bautätigkeiten nur ca. 135 Wohnungen in zwei Bauabschnitten am Akazienhof und am Gartenstadtweg.\\n\\nDie Gartenstadt Falkenberg hat aus mehreren gewichtigen Gründen architekturgeschichtliche Bedeutung.\\nVon Relevanz ist zunächst, dass der Bebauungsplan und nahezu alle Häuser auf Entwürfe Bruno Tauts zurückgehen, der, weltweit bekannt, einer der renommiertesten deutschen Architekten dieses Jahrhunderts ist.\\nBedeutsam ist desgleichen, dass die Siedlung eines der wichtigsten Frühwerk Tauts darstellt und für die weitere Entwicklung seines architektonischen Oeuvres von entscheidender Bedeutung war. Erstmalig konnte Taut hier in umfassendem Maße seine Vorstellungen einer gegen den \"Materialstil\" gewendeten farbigen Architektur verwirklichen und andererseits erprobt er hier die rationellen Grundrissbildungen, die in den 20er Jahren Eingang in seine berühmt gewordenen Berliner Großsiedlungen finden. Nicht zuletzt war die Altglienicker Gartenstadt für Taut auch ein hilfreiches Lehrstück in Bezug auf die Lösung städtebaulicher Probleme, das Auffinden sinnvoller Gebäudegruppierungen, die Anlage von Verkehrs- und Wohnstraßen etc.\\nArchitekturgeschichtliche Bedeutung hat daneben der Umstand, dass eines der Häuser, Am Falkenberg 119, von Heinrich Tessenow projektiert wurde, der wie Taut zu den namhaften deutschen Architekten dieses Jahrhunderts gehört und insbesondere als Architekturlehrer diverser Hoch- und Kunstgewerbeschulen von weitreichender Bedeutung für die Baugeschichte des 20. Jahrhunderts war.\\nDie Gartenstadt Falkenberg ist ein wichtiges Dokument für die Geschichte der deutschen Gartenstadtbewegung, die sich in Anlehnung an das englische Vorbild gleich nach der Jahrhundertwende formierte und Teil der allenthalben anzutreffenden Bestrebungen nach einer umfassenden Reform im Massen- und Kleinwohnungsbau war. Obwohl sich die Bewegung bald eines lebhaften Zuspruchs erfreute, kam es nicht in dem von ihr gewünschten Maße zu Errichtung von Gartenstädten, weshalb der Gartenstadt Falkenberg ein besonderer Zeugniswert für dieses einstmals bedeutsame kulturgeschichtliche Phänomen eignet. Von besonderer Bedeutung ist hierbei, dass die Siedlung ihre Entstehung einer Initiative der Deutschen Gartenstadtgesellschaft verdankt, die Kern und ideologisches Zentrum der Bewegung war. Der von ihr zur Erstellung der Anlage gegründeten Baugenossenschaft standen wichtige Protagonisten der Gartenstadtbewegung vor: Hans und Bernhard Kampffmeyer, Adolf Otto, Hermann Salomon, Albert Kohn.\\n\\nAls intendiertes und in Teilen auch verwirklichtes ganzheitliches Reformmodell reflektiert die Gartenstadt Falkenberg die Bemühungen bürgerlicher Kreise um die Reform der Gesellschaft, die von Soziabilität und sozialer Gerechtigkeit geprägt sein sollte. Dazu gehörte vor dem Hintergrund des in Berlin und anderen deutschen Großstädten grassierenden Wohnungselends die Versorgung minderbemittelter Schichten mit soliden, zweckentsprechenden Wohnungen, die, soweit möglich, im Grünen liegen und eventuell sogar die Möglichkeit zur teilweisen Selbstversorgung bieten sollten.\\nIn Altglienicke verfügten alle Wohnungen über einen Garten zur Obst- und Gemüsepflanzung. Sie waren an Gas, Strom und Wasser angeschlossen, besaßen Bad, Küche, Waschküche, Keller und Boden. Dennoch waren die Mieten vergleichsweise preiswert.\\nGetreu den Idealen der Gartenstadtgesellschaft und baugenossenschaftlichen Bewegung entwickelte sich hier in Altglienicke schon bald nach Fertigstellung der Siedlung ein reges soziales Leben: So wurde ein Bewohnerausschuss gebildet, der sich um die Belange der Anwohner zu kümmern hatte. Es gab große Gemeinschaftsfeste und gemeinsame Großeinkäufe; es wurden ein Kindergarten und eine Bücherei eingerichtet und es gab einen Tanz- und Gesangsclub, eine siedlungseigene Krankenkasse sowie eine Krankenstation mit Arzt.\\n\\nDie Gartenstadt Falkenberg besitzt baukünstlerische und städtebauliche Bedeutung, weil sie über eine hervorragende An- und Zuordnung der Einzelhäuser und Hauszeilen verfügt. Die Anlage von Straßen und Wohnhof, Grün- und Freiflächen und die Gruppierung der Baublöcke und Häuser sind in idealer Weise aus dem hügeligen Geländeprofil entwickelt und zu einem organischen Siedlungsgefüge vereint, das den besonderen Reiz des Terrains akzentuiert.\\nDie Häuser des ersten Bauabschnittes wurden um einen Wohnhof, den sog. Akazienhof gruppiert. Wichtigen kompositorisches Mittel bei der Anlage des kleinen Hofes sind die geringfügigen Achsverschiebungen in der Grundrissbildung, wodurch der Hof, der als Spiel- und Kommunikationszentrum gedacht war, über eine intime Raumwirkung verfügt und so von den Anwohnern als Verlängerung ihres individuellen Wohnraums erlebt werden kann.\\nDie im zweiten Bauabschnitt am Gartenstadtweg realisierten Häuser und Zeilen sorgen durch Vor- und Rückstaffelung, ihre unterschiedlichen Baukörper und Farbgebungen für ein malerisches Straßenraumgepräge. Hier werden die Einflüsse von Tauts Lehrer Theodor Goecke deutlich fühlbar. Kennzeichen des Straßenzugs ist der großzügige Einbezug der Garten- und Grünanlagen in die organisch anmutende Gesamtplanung. Durch die variantenreiche, aus der Perspektive des Straßenraumes entwickelte Verortung der Baublöcke ergeben sich vielfältige Prospektwirkungen.\\nVon herausragender baukünstlerischer Bedeutung ist der Versuchs Tauts, bei der Gartenstadt Falkenberg mit einer Aufsehen erregenden Farbigkeit im Siedlungsbau eine neue Gestaltqualität einzuführen. Infolge dieser Farbigkeit wurde die Anlage im Volksmund bald auf den Namen \"Tuschkastensiedlung\" getauft und ihr Architekt als verhaftungswürdig eingestuft.\\nDie Farbe, als simpler und preiswerter Baustoff, schien Taut geeignet, der Anlage ein \"harmlos heiteres\" Antlitz zu geben und zugleich den aus Sparsamkeitsgründen (teilweise) in Typenbauweise errichteten Häusern größtmögliche Individualität zu verleihen. Zeichneten sich schon die Häuser des ersten Bauabschnitts um den Akazienhof durch eine erfrischende Farbgebung aus, so kulminierte die Anwendung der Farbe als elementares Gestaltmittel in einem Haus des zweiten Bauabschnitts (Gartenstadtweg 84/96), dessen völlig schwarz gehaltene Fassaden einen aufreizenden Kontrast zu weißen Fenstern und Fensterläden, roten Fensterrahmungen, roß-weiß gehaltenen Brüstungsfeldern und der roten Dachhaut mit den weißen Schornsteinen bilden.\\nWie wichtig Taut im übrigen eine intensiv leuchtende Farbigkeit als kompositorisches Gestaltungsmittel war, beweist der Umstand, daß die Farbe seinen Vorstellungen zufolge alle drei Jahre aufgefrischt werden sollte.\\nDie Gestaltungsweise der Häuser ist in gelungener Weise dem von Taut selbst gesteckten Anspruch, einfache, solide und zweckentsprechende Wohnarchitektur zu schaffen, gerecht geworden. Die Häuser entbehren nahezu jeden Zierartes, und sind, sieht man einmal von der Farbigkeit ab, von eher nüchternem Erscheinungsbild. Die Dachgeschosse vieler Häuser sind als Drempel angelegt, um die größtmögliche Wohnfläche pro Hausgrundriss zu erlangen.\\nVon baukünstlerischer Bedeutung ist der Umstand, dass hier der Versuch unternommen wurde, mit einer vielgestaltigen Architektur (unterschiedliche Fassaden- und Grundrissbildungen) der sozialen Differenzierung der Bewohner (vom Arbeiter bis zum Schriftsteller) gerecht zu werden. Ihrer Unterschiedlichkeit entspricht der Wechsel von Hausgrößen und Formen, der durch die intensiv heitere Farbigkeit eine zusätzliche Belebung erfährt.\\nAufgrund ihres markanten Erscheinungsbildes, das von Beginn an für Aufsehen, Widerspruch und lebhafte Begeisterung sorgte, ist die Gartenstadt Falkenberg wichtiger Bestandteil der Ortsgeschichte und zum Markenzeichen von Ortsteil und Bezirk geworden. Die farbigen Häuser der weitläufigen Siedlung sind in entscheidender Weise für das stadträumliche Gepräge südlich von Umgehungsbahn und westlich vom Bahnhof Grünau verantwortlich.\\n\\n\\n\\n\\nGenehmigungsfähigkeit\\n\\nDie Genehmigung kann gemäß § 11 Abs. 4 DSchG Bln unter Bedingungen und Auflagen sowie \\nunter dem Vorbehalt des Widerrufs oder befristet erteilt werden.\\n\\nDie denkmalrechtliche Genehmigung  zum o. g. Vorhaben wird unter Auflagen erteilt:\\n\\nAuflagen:\\n\\n- Die Untere Denkmalschutzbehörde stimmt dem Abbruch des Schuppenanbaus, entsprechend Antrag vom 11. 06. 2013, zu. \\n\\n- In allen Phasen der Baudurchführung sind weiterhin Abstimmungen mit der Denkmalschutzbehörde durchzuführen bzw. eine denkmalschutzrechtliche Genehmigung einzuholen, besonders dann, wenn die Baudurchführung von dem vorgelegten eingereichten Antrag abweichen sollte oder die Baumaßnahme nicht Gegenstand des Antrages war (Dieser Sachverhalt ist auch bei Veränderungen des Antrags zu berücksichtigen, die durch Forderungen anderer Behörden und/oder Institutionen erfolgen).\\n\\n- Die Genehmigung ist auf der Baustelle zu hinterlegen, so dass die Bauleitung \\nKenntnis von den denkmalschutzrechtlichen Auflagen hat und jederzeit geprüft werden kann, ob die \\nAuflagen eingehalten werden.\\n\\nNur durch die weitere Detaillierung bzw. Bemusterung ist die beabsichtigte Veränderung, Abriss eines Schuppenanbaus, beurteilungsfähig. Somit sind die Auflagen geeignet, begründet und notwendig.\\n\\n\\n\\nB\\nEntscheidung über den Ausgleich in Geld\\n\\nEin Ausgleich in Geld gemäß § 16 Abs. 2 DSchG Bln ist Ihnen nicht zu gewähren.\\nGemäß § 16 Abs. 2 DSchG Bln kann ein angemessener Ausgleich in Geld verlangt werden, wenn durch die Versagung gemäß § 11 Abs. 1 DSchG Bln oder durch sonstige behördliche Maßnahmen auf Grund dieses Gesetzes eine bisher rechtmäßig ausgenutzte wirtschaftliche Nutzung eines Denkmals wirtschaftlich unzumutbar erschwert wird.\\n\\nDieser Tatbestand ist vorliegend nicht gegeben.\\n\\n\\nGemäß § 12 Abs. 2 DSchG Bln erlischt die Genehmigung, wenn nicht innerhalb von zwei Jahren nach Erteilung mit der Ausführung begonnen oder wenn die Ausführung ein Jahr unterbrochen worden ist. Die Fristen nach Satz 1 können auf schriftlichen Antrag jeweils bis zu einem Jahr verlängert werden.\\n\\nGemäß § 12 Abs. 3 DSchG Bln werden Genehmigungen, die auf Grund anderer Rechtsvorschriften erforderlich sind, durch die Erteilung auf Grund dieses Gesetzes nicht ersetzt.\\n\\n\\n\\n\\nRechtsbehelfsbelehrung\\n\\nGegen diesen Bescheid ist nach § 68 VwGO der Widerspruch zulässig.\\nEr ist innerhalb eines Monats nach Bekanntgabe dieses Bescheides schriftlich beim\\n\\t\\t\\n\\t\\tBezirksamt Treptow-Köpenick von Berlin\\n\\t\\tAbt. Bauen, Stadtentwicklung und Umwelt\\n\\t\\tStadtentwicklungsamt\\n\\t\\tFachbereich Denkmalschutz\\n\\t\\tPostanschrift: Alt Köpenick 21,PF 91 02 40\\n\\t\\t12414 Berlin \\n\\n\\t\\toder zur Niederschrift beim\\n\\n\\t\\tBezirksamt Treptow-Köpenick von Berlin\\n\\t\\tAbt. Bauen, Stadtentwicklung und Umwelt\\n\\t\\tStadtentwicklungsamt\\n\\t\\tFachbereich Denkmalschutz\\n\\t\\tAlt Köpenick 21, 12555 Berlin\\n\\nzu erheben.\\nEs wird darauf hingewiesen, dass bei schriftlicher Einlegung des Widerspruchs die Widerspruchsfrist nur dann gewahrt ist, wenn der Widerspruch innerhalb dieser Frist eingegangen ist.\\n\\n\\nHinweis auf die Inanspruchnahme von Steuervergünstigungen bei Denkmalen:\\n\\nFür Aufwendungen für Baumaßnahmen an Denkmalen kann das Landesdenkmalamt Berlin, Klosterstraße 47, 10179 Berlin, eine Bescheinigung für die Inanspruchnahme von Steuervergünstigungen nach §§ 7i, 10f, 11b bzw. 10g Einkommenssteuergesetz (EstG) erteilen, soweit dafür die gesetzlichen Voraussetzungen vorliegen. Erforderlich ist insbesondere eine vorherige Abstimmung der geplanten Maßnahmen mit dem Landesdenkmalamt, das auch Auskünfte über die für das Antragsverfahren benötigten Angaben und Unterlagen erteilt. \\n\\nSprechzeiten dienstags und freitags 9-12 Uhr: 030-90259-3631, 3641, -3732 oder – 3739;\\nFax 90259-3700.\\nInternet: http:// .\\n\\n\\nMit freundlichen Grüßen\\nIm Auftrag\\n\\n\\nBreer'"
      ]
     },
     "execution_count": 23,
     "metadata": {},
     "output_type": "execute_result"
    }
   ],
   "source": [
    "content"
   ]
  },
  {
   "cell_type": "code",
   "execution_count": null,
   "metadata": {},
   "outputs": [],
   "source": []
  }
 ],
 "metadata": {
  "kernelspec": {
   "display_name": "env",
   "language": "python",
   "name": "env"
  },
  "language_info": {
   "codemirror_mode": {
    "name": "ipython",
    "version": 3
   },
   "file_extension": ".py",
   "mimetype": "text/x-python",
   "name": "python",
   "nbconvert_exporter": "python",
   "pygments_lexer": "ipython3",
   "version": "3.9.1"
  }
 },
 "nbformat": 4,
 "nbformat_minor": 4
}
