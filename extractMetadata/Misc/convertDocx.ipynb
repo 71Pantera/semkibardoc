{
 "cells": [
  {
   "cell_type": "code",
   "execution_count": 2,
   "id": "capital-jurisdiction",
   "metadata": {},
   "outputs": [],
   "source": [
    "import os.path\n",
    "import win32com.client"
   ]
  },
  {
   "cell_type": "code",
   "execution_count": 3,
   "id": "functional-filter",
   "metadata": {},
   "outputs": [
    {
     "name": "stdout",
     "output_type": "stream",
     "text": [
      "Failed to Convert: C:\\Users\\schull\\Projekte\\KIbarDok\\doc\\Akazienhof_d_r_G_.doc\n",
      "(-2147352567, 'Ausnahmefehler aufgetreten.', (0, 'Microsoft Word', 'Sie versuchen, einen Dateityp zu öffnen, der durch Ihre Einstellungen für den Dateizugriffsschutz im Trust Center blockiert wird.', 'wdmain11.chm', 25784, -2146821984), None)\n"
     ]
    }
   ],
   "source": [
    "baseDir = r\"C:\\Users\\schull\\Projekte\\KIbarDok\\doc\" # Starting directory for directory walk\n",
    "\n",
    "word = win32com.client.Dispatch(\"Word.application\")\n",
    "\n",
    "for dir_path, dirs, files in os.walk(baseDir):\n",
    "\tfor file_name in files:\n",
    "\n",
    "\t\tfile_path = os.path.join(dir_path, file_name)\n",
    "\t\tfile_name, file_extension = os.path.splitext(file_path)\n",
    "\n",
    "\t\tif \"~$\" not in file_name:\n",
    "\t\t\tif file_extension.lower() == '.doc': #\n",
    "\t\t\t\tdocx_file = '{0}{1}'.format(file_path, 'x')\n",
    "\n",
    "\t\t\t\tif not os.path.isfile(docx_file): # Skip conversion where docx file already exists\n",
    "\n",
    "\t\t\t\t\tfile_path = os.path.abspath(file_path)\n",
    "\t\t\t\t\tdocx_file = os.path.abspath(docx_file)\n",
    "\t\t\t\t\ttry:\n",
    "\t\t\t\t\t\twordDoc = word.Documents.Open(file_path)\n",
    "\t\t\t\t\t\twordDoc.SaveAs2(docx_file, FileFormat = 16)\n",
    "\t\t\t\t\t\twordDoc.Close()\n",
    "\t\t\t\t\texcept Exception as e:\n",
    "\t\t\t\t\t\tprint('Failed to Convert: {0}'.format(file_path))\n",
    "\t\t\t\t\t\tprint(e)"
   ]
  }
 ],
 "metadata": {
  "kernelspec": {
   "display_name": "env",
   "language": "python",
   "name": "env"
  },
  "language_info": {
   "codemirror_mode": {
    "name": "ipython",
    "version": 3
   },
   "file_extension": ".py",
   "mimetype": "text/x-python",
   "name": "python",
   "nbconvert_exporter": "python",
   "pygments_lexer": "ipython3",
   "version": "3.9.1"
  }
 },
 "nbformat": 4,
 "nbformat_minor": 5
}
